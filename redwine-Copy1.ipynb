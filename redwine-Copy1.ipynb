{
 "cells": [
  {
   "cell_type": "code",
   "execution_count": 107,
   "id": "382fb4c5",
   "metadata": {},
   "outputs": [],
   "source": [
    "import pandas as pd\n",
    "import numpy as np\n",
    "import matplotlib\n",
    "from matplotlib import pyplot as plt\n",
    "import seaborn as sns\n",
    "import sklearn\n",
    "from sklearn.model_selection import train_test_split\n",
    "from sklearn.preprocessing import StandardScaler\n",
    "from sklearn.metrics import confusion_matrix,classification_report\n",
    "from sklearn.preprocessing import LabelEncoder\n",
    "from sklearn import tree\n",
    "from sklearn.ensemble import RandomForestClassifier\n",
    "from sklearn.linear_model import LogisticRegression\n",
    "from sklearn.svm import SVC\n",
    "from sklearn.tree import DecisionTreeClassifier\n",
    "from sklearn.model_selection import cross_val_score\n",
    "from sklearn.model_selection import GridSearchCV\n",
    "\n",
    "import warnings\n",
    "warnings.filterwarnings('ignore')"
   ]
  },
  {
   "cell_type": "code",
   "execution_count": 50,
   "id": "a924754e",
   "metadata": {},
   "outputs": [
    {
     "data": {
      "text/html": [
       "<div>\n",
       "<style scoped>\n",
       "    .dataframe tbody tr th:only-of-type {\n",
       "        vertical-align: middle;\n",
       "    }\n",
       "\n",
       "    .dataframe tbody tr th {\n",
       "        vertical-align: top;\n",
       "    }\n",
       "\n",
       "    .dataframe thead th {\n",
       "        text-align: right;\n",
       "    }\n",
       "</style>\n",
       "<table border=\"1\" class=\"dataframe\">\n",
       "  <thead>\n",
       "    <tr style=\"text-align: right;\">\n",
       "      <th></th>\n",
       "      <th>fixed acidity</th>\n",
       "      <th>volatile acidity</th>\n",
       "      <th>citric acid</th>\n",
       "      <th>residual sugar</th>\n",
       "      <th>chlorides</th>\n",
       "      <th>free sulfur dioxide</th>\n",
       "      <th>total sulfur dioxide</th>\n",
       "      <th>density</th>\n",
       "      <th>pH</th>\n",
       "      <th>sulphates</th>\n",
       "      <th>alcohol</th>\n",
       "      <th>quality</th>\n",
       "    </tr>\n",
       "  </thead>\n",
       "  <tbody>\n",
       "    <tr>\n",
       "      <th>0</th>\n",
       "      <td>7.4</td>\n",
       "      <td>0.700</td>\n",
       "      <td>0.00</td>\n",
       "      <td>1.9</td>\n",
       "      <td>0.076</td>\n",
       "      <td>11.0</td>\n",
       "      <td>34.0</td>\n",
       "      <td>0.99780</td>\n",
       "      <td>3.51</td>\n",
       "      <td>0.56</td>\n",
       "      <td>9.4</td>\n",
       "      <td>5</td>\n",
       "    </tr>\n",
       "    <tr>\n",
       "      <th>1</th>\n",
       "      <td>7.8</td>\n",
       "      <td>0.880</td>\n",
       "      <td>0.00</td>\n",
       "      <td>2.6</td>\n",
       "      <td>0.098</td>\n",
       "      <td>25.0</td>\n",
       "      <td>67.0</td>\n",
       "      <td>0.99680</td>\n",
       "      <td>3.20</td>\n",
       "      <td>0.68</td>\n",
       "      <td>9.8</td>\n",
       "      <td>5</td>\n",
       "    </tr>\n",
       "    <tr>\n",
       "      <th>2</th>\n",
       "      <td>7.8</td>\n",
       "      <td>0.760</td>\n",
       "      <td>0.04</td>\n",
       "      <td>2.3</td>\n",
       "      <td>0.092</td>\n",
       "      <td>15.0</td>\n",
       "      <td>54.0</td>\n",
       "      <td>0.99700</td>\n",
       "      <td>3.26</td>\n",
       "      <td>0.65</td>\n",
       "      <td>9.8</td>\n",
       "      <td>5</td>\n",
       "    </tr>\n",
       "    <tr>\n",
       "      <th>3</th>\n",
       "      <td>11.2</td>\n",
       "      <td>0.280</td>\n",
       "      <td>0.56</td>\n",
       "      <td>1.9</td>\n",
       "      <td>0.075</td>\n",
       "      <td>17.0</td>\n",
       "      <td>60.0</td>\n",
       "      <td>0.99800</td>\n",
       "      <td>3.16</td>\n",
       "      <td>0.58</td>\n",
       "      <td>9.8</td>\n",
       "      <td>6</td>\n",
       "    </tr>\n",
       "    <tr>\n",
       "      <th>4</th>\n",
       "      <td>7.4</td>\n",
       "      <td>0.700</td>\n",
       "      <td>0.00</td>\n",
       "      <td>1.9</td>\n",
       "      <td>0.076</td>\n",
       "      <td>11.0</td>\n",
       "      <td>34.0</td>\n",
       "      <td>0.99780</td>\n",
       "      <td>3.51</td>\n",
       "      <td>0.56</td>\n",
       "      <td>9.4</td>\n",
       "      <td>5</td>\n",
       "    </tr>\n",
       "    <tr>\n",
       "      <th>...</th>\n",
       "      <td>...</td>\n",
       "      <td>...</td>\n",
       "      <td>...</td>\n",
       "      <td>...</td>\n",
       "      <td>...</td>\n",
       "      <td>...</td>\n",
       "      <td>...</td>\n",
       "      <td>...</td>\n",
       "      <td>...</td>\n",
       "      <td>...</td>\n",
       "      <td>...</td>\n",
       "      <td>...</td>\n",
       "    </tr>\n",
       "    <tr>\n",
       "      <th>1594</th>\n",
       "      <td>6.2</td>\n",
       "      <td>0.600</td>\n",
       "      <td>0.08</td>\n",
       "      <td>2.0</td>\n",
       "      <td>0.090</td>\n",
       "      <td>32.0</td>\n",
       "      <td>44.0</td>\n",
       "      <td>0.99490</td>\n",
       "      <td>3.45</td>\n",
       "      <td>0.58</td>\n",
       "      <td>10.5</td>\n",
       "      <td>5</td>\n",
       "    </tr>\n",
       "    <tr>\n",
       "      <th>1595</th>\n",
       "      <td>5.9</td>\n",
       "      <td>0.550</td>\n",
       "      <td>0.10</td>\n",
       "      <td>2.2</td>\n",
       "      <td>0.062</td>\n",
       "      <td>39.0</td>\n",
       "      <td>51.0</td>\n",
       "      <td>0.99512</td>\n",
       "      <td>3.52</td>\n",
       "      <td>0.76</td>\n",
       "      <td>11.2</td>\n",
       "      <td>6</td>\n",
       "    </tr>\n",
       "    <tr>\n",
       "      <th>1596</th>\n",
       "      <td>6.3</td>\n",
       "      <td>0.510</td>\n",
       "      <td>0.13</td>\n",
       "      <td>2.3</td>\n",
       "      <td>0.076</td>\n",
       "      <td>29.0</td>\n",
       "      <td>40.0</td>\n",
       "      <td>0.99574</td>\n",
       "      <td>3.42</td>\n",
       "      <td>0.75</td>\n",
       "      <td>11.0</td>\n",
       "      <td>6</td>\n",
       "    </tr>\n",
       "    <tr>\n",
       "      <th>1597</th>\n",
       "      <td>5.9</td>\n",
       "      <td>0.645</td>\n",
       "      <td>0.12</td>\n",
       "      <td>2.0</td>\n",
       "      <td>0.075</td>\n",
       "      <td>32.0</td>\n",
       "      <td>44.0</td>\n",
       "      <td>0.99547</td>\n",
       "      <td>3.57</td>\n",
       "      <td>0.71</td>\n",
       "      <td>10.2</td>\n",
       "      <td>5</td>\n",
       "    </tr>\n",
       "    <tr>\n",
       "      <th>1598</th>\n",
       "      <td>6.0</td>\n",
       "      <td>0.310</td>\n",
       "      <td>0.47</td>\n",
       "      <td>3.6</td>\n",
       "      <td>0.067</td>\n",
       "      <td>18.0</td>\n",
       "      <td>42.0</td>\n",
       "      <td>0.99549</td>\n",
       "      <td>3.39</td>\n",
       "      <td>0.66</td>\n",
       "      <td>11.0</td>\n",
       "      <td>6</td>\n",
       "    </tr>\n",
       "  </tbody>\n",
       "</table>\n",
       "<p>1599 rows × 12 columns</p>\n",
       "</div>"
      ],
      "text/plain": [
       "      fixed acidity  volatile acidity  citric acid  residual sugar  chlorides  \\\n",
       "0               7.4             0.700         0.00             1.9      0.076   \n",
       "1               7.8             0.880         0.00             2.6      0.098   \n",
       "2               7.8             0.760         0.04             2.3      0.092   \n",
       "3              11.2             0.280         0.56             1.9      0.075   \n",
       "4               7.4             0.700         0.00             1.9      0.076   \n",
       "...             ...               ...          ...             ...        ...   \n",
       "1594            6.2             0.600         0.08             2.0      0.090   \n",
       "1595            5.9             0.550         0.10             2.2      0.062   \n",
       "1596            6.3             0.510         0.13             2.3      0.076   \n",
       "1597            5.9             0.645         0.12             2.0      0.075   \n",
       "1598            6.0             0.310         0.47             3.6      0.067   \n",
       "\n",
       "      free sulfur dioxide  total sulfur dioxide  density    pH  sulphates  \\\n",
       "0                    11.0                  34.0  0.99780  3.51       0.56   \n",
       "1                    25.0                  67.0  0.99680  3.20       0.68   \n",
       "2                    15.0                  54.0  0.99700  3.26       0.65   \n",
       "3                    17.0                  60.0  0.99800  3.16       0.58   \n",
       "4                    11.0                  34.0  0.99780  3.51       0.56   \n",
       "...                   ...                   ...      ...   ...        ...   \n",
       "1594                 32.0                  44.0  0.99490  3.45       0.58   \n",
       "1595                 39.0                  51.0  0.99512  3.52       0.76   \n",
       "1596                 29.0                  40.0  0.99574  3.42       0.75   \n",
       "1597                 32.0                  44.0  0.99547  3.57       0.71   \n",
       "1598                 18.0                  42.0  0.99549  3.39       0.66   \n",
       "\n",
       "      alcohol  quality  \n",
       "0         9.4        5  \n",
       "1         9.8        5  \n",
       "2         9.8        5  \n",
       "3         9.8        6  \n",
       "4         9.4        5  \n",
       "...       ...      ...  \n",
       "1594     10.5        5  \n",
       "1595     11.2        6  \n",
       "1596     11.0        6  \n",
       "1597     10.2        5  \n",
       "1598     11.0        6  \n",
       "\n",
       "[1599 rows x 12 columns]"
      ]
     },
     "execution_count": 50,
     "metadata": {},
     "output_type": "execute_result"
    }
   ],
   "source": [
    "ds = pd.read_csv('https://raw.githubusercontent.com/dsrscientist/DSData/master/winequality-red.csv')\n",
    "ds"
   ]
  },
  {
   "cell_type": "code",
   "execution_count": 51,
   "id": "f64f47da",
   "metadata": {},
   "outputs": [
    {
     "data": {
      "text/plain": [
       "(1599, 12)"
      ]
     },
     "execution_count": 51,
     "metadata": {},
     "output_type": "execute_result"
    }
   ],
   "source": [
    "ds.shape"
   ]
  },
  {
   "cell_type": "code",
   "execution_count": 52,
   "id": "3562462a",
   "metadata": {},
   "outputs": [
    {
     "data": {
      "text/plain": [
       "Index(['fixed acidity', 'volatile acidity', 'citric acid', 'residual sugar',\n",
       "       'chlorides', 'free sulfur dioxide', 'total sulfur dioxide', 'density',\n",
       "       'pH', 'sulphates', 'alcohol', 'quality'],\n",
       "      dtype='object')"
      ]
     },
     "execution_count": 52,
     "metadata": {},
     "output_type": "execute_result"
    }
   ],
   "source": [
    "ds.columns"
   ]
  },
  {
   "cell_type": "code",
   "execution_count": 53,
   "id": "bc0929fd",
   "metadata": {},
   "outputs": [
    {
     "name": "stdout",
     "output_type": "stream",
     "text": [
      "<class 'pandas.core.frame.DataFrame'>\n",
      "RangeIndex: 1599 entries, 0 to 1598\n",
      "Data columns (total 12 columns):\n",
      " #   Column                Non-Null Count  Dtype  \n",
      "---  ------                --------------  -----  \n",
      " 0   fixed acidity         1599 non-null   float64\n",
      " 1   volatile acidity      1599 non-null   float64\n",
      " 2   citric acid           1599 non-null   float64\n",
      " 3   residual sugar        1599 non-null   float64\n",
      " 4   chlorides             1599 non-null   float64\n",
      " 5   free sulfur dioxide   1599 non-null   float64\n",
      " 6   total sulfur dioxide  1599 non-null   float64\n",
      " 7   density               1599 non-null   float64\n",
      " 8   pH                    1599 non-null   float64\n",
      " 9   sulphates             1599 non-null   float64\n",
      " 10  alcohol               1599 non-null   float64\n",
      " 11  quality               1599 non-null   int64  \n",
      "dtypes: float64(11), int64(1)\n",
      "memory usage: 150.0 KB\n"
     ]
    }
   ],
   "source": [
    "ds.info()"
   ]
  },
  {
   "cell_type": "code",
   "execution_count": 54,
   "id": "82b6bfbe",
   "metadata": {},
   "outputs": [
    {
     "data": {
      "text/plain": [
       "Index(['fixed_acidity', 'volatile_acidity', 'citric_acid', 'residual_sugar',\n",
       "       'chlorides', 'free_sulfur_dioxide', 'total_sulfur_dioxide', 'density',\n",
       "       'pH', 'sulphates', 'alcohol', 'quality'],\n",
       "      dtype='object')"
      ]
     },
     "execution_count": 54,
     "metadata": {},
     "output_type": "execute_result"
    }
   ],
   "source": [
    "ds.columns = ds.columns.str.replace(' ', '_')\n",
    "ds.columns"
   ]
  },
  {
   "cell_type": "code",
   "execution_count": 55,
   "id": "98d87580",
   "metadata": {},
   "outputs": [
    {
     "data": {
      "text/plain": [
       "fixed_acidity           0\n",
       "volatile_acidity        0\n",
       "citric_acid             0\n",
       "residual_sugar          0\n",
       "chlorides               0\n",
       "free_sulfur_dioxide     0\n",
       "total_sulfur_dioxide    0\n",
       "density                 0\n",
       "pH                      0\n",
       "sulphates               0\n",
       "alcohol                 0\n",
       "quality                 0\n",
       "dtype: int64"
      ]
     },
     "execution_count": 55,
     "metadata": {},
     "output_type": "execute_result"
    }
   ],
   "source": [
    "ds.isnull().sum()     #no Missing Values"
   ]
  },
  {
   "cell_type": "code",
   "execution_count": 56,
   "id": "87b47c1f",
   "metadata": {},
   "outputs": [
    {
     "data": {
      "text/plain": [
       "<AxesSubplot:>"
      ]
     },
     "execution_count": 56,
     "metadata": {},
     "output_type": "execute_result"
    },
    {
     "data": {
      "image/png": "[encoded data removed]",
      "text/plain": [
       "<Figure size 432x288 with 2 Axes>"
      ]
     },
     "metadata": {
      "needs_background": "light"
     },
     "output_type": "display_data"
    }
   ],
   "source": [
    "sns.heatmap(ds.isnull())"
   ]
  },
  {
   "cell_type": "code",
   "execution_count": 57,
   "id": "d2964e4a",
   "metadata": {},
   "outputs": [
    {
     "data": {
      "text/plain": [
       "240"
      ]
     },
     "execution_count": 57,
     "metadata": {},
     "output_type": "execute_result"
    }
   ],
   "source": [
    "ds.duplicated().sum()"
   ]
  },
  {
   "cell_type": "code",
   "execution_count": 58,
   "id": "222692fe",
   "metadata": {},
   "outputs": [
    {
     "data": {
      "text/plain": [
       "<AxesSubplot:xlabel='fixed_acidity', ylabel='Density'>"
      ]
     },
     "execution_count": 58,
     "metadata": {},
     "output_type": "execute_result"
    },
    {
     "data": {
      "image/png": "[encoded data removed]",
      "text/plain": [
       "<Figure size 432x288 with 1 Axes>"
      ]
     },
     "metadata": {
      "needs_background": "light"
     },
     "output_type": "display_data"
    }
   ],
   "source": [
    " sns.distplot(ds['fixed_acidity'])"
   ]
  },
  {
   "cell_type": "code",
   "execution_count": 59,
   "id": "690969f0",
   "metadata": {},
   "outputs": [
    {
     "data": {
      "text/plain": [
       "<AxesSubplot:xlabel='volatile_acidity', ylabel='Density'>"
      ]
     },
     "execution_count": 59,
     "metadata": {},
     "output_type": "execute_result"
    },
    {
     "data": {
      "image/png": "[encoded data removed]",
      "text/plain": [
       "<Figure size 432x288 with 1 Axes>"
      ]
     },
     "metadata": {
      "needs_background": "light"
     },
     "output_type": "display_data"
    }
   ],
   "source": [
    " sns.distplot(ds['volatile_acidity'])"
   ]
  },
  {
   "cell_type": "code",
   "execution_count": 60,
   "id": "1683b716",
   "metadata": {},
   "outputs": [
    {
     "data": {
      "text/plain": [
       "<AxesSubplot:xlabel='citric_acid', ylabel='Density'>"
      ]
     },
     "execution_count": 60,
     "metadata": {},
     "output_type": "execute_result"
    },
    {
     "data": {
      "image/png": "[encoded data removed]",
      "text/plain": [
       "<Figure size 432x288 with 1 Axes>"
      ]
     },
     "metadata": {
      "needs_background": "light"
     },
     "output_type": "display_data"
    }
   ],
   "source": [
    " sns.distplot(ds['citric_acid'])"
   ]
  },
  {
   "cell_type": "code",
   "execution_count": 61,
   "id": "a5c3b502",
   "metadata": {},
   "outputs": [
    {
     "data": {
      "text/plain": [
       "5    681\n",
       "6    638\n",
       "7    199\n",
       "4     53\n",
       "8     18\n",
       "3     10\n",
       "Name: quality, dtype: int64"
      ]
     },
     "execution_count": 61,
     "metadata": {},
     "output_type": "execute_result"
    }
   ],
   "source": [
    "ds.quality.value_counts(sort=False)"
   ]
  },
  {
   "cell_type": "code",
   "execution_count": 62,
   "id": "0b9c236d",
   "metadata": {},
   "outputs": [
    {
     "data": {
      "text/plain": [
       "[Text(0.5, 1.0, 'HISTOGRAM OF WINE QUALITY'),\n",
       " Text(0.5, 0, 'quality'),\n",
       " Text(0, 0.5, 'count')]"
      ]
     },
     "execution_count": 62,
     "metadata": {},
     "output_type": "execute_result"
    },
    {
     "data": {
      "image/png": "[encoded data removed]",
      "text/plain": [
       "<Figure size 432x288 with 1 Axes>"
      ]
     },
     "metadata": {
      "needs_background": "light"
     },
     "output_type": "display_data"
    }
   ],
   "source": [
    "plt = sns.countplot(x='quality',data=ds)\n",
    "plt.set(title='HISTOGRAM OF WINE QUALITY',xlabel='quality',ylabel='count')"
   ]
  },
  {
   "cell_type": "code",
   "execution_count": 63,
   "id": "cfbd1570",
   "metadata": {},
   "outputs": [
    {
     "data": {
      "text/plain": [
       "<AxesSubplot:xlabel='quality', ylabel='fixed_acidity'>"
      ]
     },
     "execution_count": 63,
     "metadata": {},
     "output_type": "execute_result"
    },
    {
     "data": {
      "image/png": "[encoded data removed]",
      "text/plain": [
       "<Figure size 432x288 with 1 Axes>"
      ]
     },
     "metadata": {
      "needs_background": "light"
     },
     "output_type": "display_data"
    }
   ],
   "source": [
    "sns.barplot(x='quality',y='fixed_acidity',data=ds)\n",
    "#fixed_acidity doesnot have impact on quality of wine"
   ]
  },
  {
   "cell_type": "code",
   "execution_count": 64,
   "id": "f4097156",
   "metadata": {},
   "outputs": [
    {
     "data": {
      "text/plain": [
       "<AxesSubplot:xlabel='quality', ylabel='volatile_acidity'>"
      ]
     },
     "execution_count": 64,
     "metadata": {},
     "output_type": "execute_result"
    },
    {
     "data": {
      "image/png": "[encoded data removed]",
      "text/plain": [
       "<Figure size 432x288 with 1 Axes>"
      ]
     },
     "metadata": {
      "needs_background": "light"
     },
     "output_type": "display_data"
    }
   ],
   "source": [
    "sns.barplot(x='quality',y='volatile_acidity',data=ds)\n",
    "#Volatile acidity has negative relation with quality."
   ]
  },
  {
   "cell_type": "code",
   "execution_count": 65,
   "id": "77d26b1c",
   "metadata": {},
   "outputs": [
    {
     "data": {
      "text/plain": [
       "<AxesSubplot:xlabel='quality', ylabel='citric_acid'>"
      ]
     },
     "execution_count": 65,
     "metadata": {},
     "output_type": "execute_result"
    },
    {
     "data": {
      "image/png": "[encoded data removed]",
      "text/plain": [
       "<Figure size 432x288 with 1 Axes>"
      ]
     },
     "metadata": {
      "needs_background": "light"
     },
     "output_type": "display_data"
    }
   ],
   "source": [
    "sns.barplot(x='quality',y='citric_acid',data=ds)\n",
    "#citric acid has positive relation with quality."
   ]
  },
  {
   "cell_type": "code",
   "execution_count": 66,
   "id": "bb513157",
   "metadata": {},
   "outputs": [
    {
     "data": {
      "text/plain": [
       "<AxesSubplot:xlabel='quality', ylabel='residual_sugar'>"
      ]
     },
     "execution_count": 66,
     "metadata": {},
     "output_type": "execute_result"
    },
    {
     "data": {
      "image/png": "[encoded data removed]",
      "text/plain": [
       "<Figure size 432x288 with 1 Axes>"
      ]
     },
     "metadata": {
      "needs_background": "light"
     },
     "output_type": "display_data"
    }
   ],
   "source": [
    "sns.barplot(x='quality',y='residual_sugar',data=ds)\n",
    "#Residual sugar have no impact on the quality of wine"
   ]
  },
  {
   "cell_type": "code",
   "execution_count": 67,
   "id": "93954a23",
   "metadata": {},
   "outputs": [
    {
     "data": {
      "text/plain": [
       "<AxesSubplot:xlabel='quality', ylabel='chlorides'>"
      ]
     },
     "execution_count": 67,
     "metadata": {},
     "output_type": "execute_result"
    },
    {
     "data": {
      "image/png": "[encoded data removed]",
      "text/plain": [
       "<Figure size 432x288 with 1 Axes>"
      ]
     },
     "metadata": {
      "needs_background": "light"
     },
     "output_type": "display_data"
    }
   ],
   "source": [
    "sns.barplot(x='quality',y='chlorides',data=ds)\n",
    "#Increase in chlorides will decrease the quality of the wine."
   ]
  },
  {
   "cell_type": "code",
   "execution_count": 68,
   "id": "54ea8b8a",
   "metadata": {},
   "outputs": [
    {
     "data": {
      "text/plain": [
       "<AxesSubplot:xlabel='quality', ylabel='free_sulfur_dioxide'>"
      ]
     },
     "execution_count": 68,
     "metadata": {},
     "output_type": "execute_result"
    },
    {
     "data": {
      "image/png": "[encoded data removed]",
      "text/plain": [
       "<Figure size 432x288 with 1 Axes>"
      ]
     },
     "metadata": {
      "needs_background": "light"
     },
     "output_type": "display_data"
    }
   ],
   "source": [
    "sns.barplot(x='quality',y='free_sulfur_dioxide',data=ds)\n",
    "#free sulphur dioxide has positive relation with the quality."
   ]
  },
  {
   "cell_type": "code",
   "execution_count": 69,
   "id": "fd8cbaf7",
   "metadata": {},
   "outputs": [
    {
     "data": {
      "text/plain": [
       "<AxesSubplot:xlabel='quality', ylabel='total_sulfur_dioxide'>"
      ]
     },
     "execution_count": 69,
     "metadata": {},
     "output_type": "execute_result"
    },
    {
     "data": {
      "image/png": "[encoded data removed]",
      "text/plain": [
       "<Figure size 432x288 with 1 Axes>"
      ]
     },
     "metadata": {
      "needs_background": "light"
     },
     "output_type": "display_data"
    }
   ],
   "source": [
    "sns.barplot(x='quality',y='total_sulfur_dioxide',data=ds)\n",
    "#total sulphur dioxide has positive relation with the quality."
   ]
  },
  {
   "cell_type": "code",
   "execution_count": 70,
   "id": "907d3de9",
   "metadata": {},
   "outputs": [
    {
     "data": {
      "text/plain": [
       "<AxesSubplot:xlabel='quality', ylabel='density'>"
      ]
     },
     "execution_count": 70,
     "metadata": {},
     "output_type": "execute_result"
    },
    {
     "data": {
      "image/png": "[encoded data removed]",
      "text/plain": [
       "<Figure size 432x288 with 1 Axes>"
      ]
     },
     "metadata": {
      "needs_background": "light"
     },
     "output_type": "display_data"
    }
   ],
   "source": [
    "sns.barplot(x='quality',y='density',data=ds)\n",
    "#Density has no corelation with quality"
   ]
  },
  {
   "cell_type": "code",
   "execution_count": 71,
   "id": "c7598b1e",
   "metadata": {},
   "outputs": [
    {
     "data": {
      "text/plain": [
       "<AxesSubplot:xlabel='quality', ylabel='pH'>"
      ]
     },
     "execution_count": 71,
     "metadata": {},
     "output_type": "execute_result"
    },
    {
     "data": {
      "image/png": "[encoded data removed]",
      "text/plain": [
       "<Figure size 432x288 with 1 Axes>"
      ]
     },
     "metadata": {
      "needs_background": "light"
     },
     "output_type": "display_data"
    }
   ],
   "source": [
    "sns.barplot(x='quality',y='pH',data=ds)\n",
    "#PH no corealtion with quality"
   ]
  },
  {
   "cell_type": "code",
   "execution_count": 72,
   "id": "f1b54e97",
   "metadata": {},
   "outputs": [
    {
     "data": {
      "text/plain": [
       "<AxesSubplot:xlabel='quality', ylabel='sulphates'>"
      ]
     },
     "execution_count": 72,
     "metadata": {},
     "output_type": "execute_result"
    },
    {
     "data": {
      "image/png": "[encoded data removed]",
      "text/plain": [
       "<Figure size 432x288 with 1 Axes>"
      ]
     },
     "metadata": {
      "needs_background": "light"
     },
     "output_type": "display_data"
    }
   ],
   "source": [
    "sns.barplot(x='quality',y='sulphates',data=ds)\n",
    "#sulphate increases quality of wine"
   ]
  },
  {
   "cell_type": "code",
   "execution_count": 73,
   "id": "85b69f11",
   "metadata": {},
   "outputs": [
    {
     "data": {
      "text/plain": [
       "<AxesSubplot:xlabel='quality', ylabel='alcohol'>"
      ]
     },
     "execution_count": 73,
     "metadata": {},
     "output_type": "execute_result"
    },
    {
     "data": {
      "image/png": "[encoded data removed]",
      "text/plain": [
       "<Figure size 432x288 with 1 Axes>"
      ]
     },
     "metadata": {
      "needs_background": "light"
     },
     "output_type": "display_data"
    }
   ],
   "source": [
    "sns.barplot(x='quality',y='alcohol',data=ds)\n",
    "#ncrease in alcohol quality will improve."
   ]
  },
  {
   "cell_type": "code",
   "execution_count": 74,
   "id": "2db247ae",
   "metadata": {},
   "outputs": [
    {
     "data": {
      "text/html": [
       "<div>\n",
       "<style scoped>\n",
       "    .dataframe tbody tr th:only-of-type {\n",
       "        vertical-align: middle;\n",
       "    }\n",
       "\n",
       "    .dataframe tbody tr th {\n",
       "        vertical-align: top;\n",
       "    }\n",
       "\n",
       "    .dataframe thead th {\n",
       "        text-align: right;\n",
       "    }\n",
       "</style>\n",
       "<table border=\"1\" class=\"dataframe\">\n",
       "  <thead>\n",
       "    <tr style=\"text-align: right;\">\n",
       "      <th></th>\n",
       "      <th>fixed_acidity</th>\n",
       "      <th>volatile_acidity</th>\n",
       "      <th>citric_acid</th>\n",
       "      <th>residual_sugar</th>\n",
       "      <th>chlorides</th>\n",
       "      <th>free_sulfur_dioxide</th>\n",
       "      <th>total_sulfur_dioxide</th>\n",
       "      <th>density</th>\n",
       "      <th>pH</th>\n",
       "      <th>sulphates</th>\n",
       "      <th>alcohol</th>\n",
       "      <th>quality</th>\n",
       "      <th>quality2</th>\n",
       "    </tr>\n",
       "  </thead>\n",
       "  <tbody>\n",
       "    <tr>\n",
       "      <th>0</th>\n",
       "      <td>7.4</td>\n",
       "      <td>0.700</td>\n",
       "      <td>0.00</td>\n",
       "      <td>1.9</td>\n",
       "      <td>0.076</td>\n",
       "      <td>11.0</td>\n",
       "      <td>34.0</td>\n",
       "      <td>0.99780</td>\n",
       "      <td>3.51</td>\n",
       "      <td>0.56</td>\n",
       "      <td>9.4</td>\n",
       "      <td>5</td>\n",
       "      <td>bad</td>\n",
       "    </tr>\n",
       "    <tr>\n",
       "      <th>1</th>\n",
       "      <td>7.8</td>\n",
       "      <td>0.880</td>\n",
       "      <td>0.00</td>\n",
       "      <td>2.6</td>\n",
       "      <td>0.098</td>\n",
       "      <td>25.0</td>\n",
       "      <td>67.0</td>\n",
       "      <td>0.99680</td>\n",
       "      <td>3.20</td>\n",
       "      <td>0.68</td>\n",
       "      <td>9.8</td>\n",
       "      <td>5</td>\n",
       "      <td>bad</td>\n",
       "    </tr>\n",
       "    <tr>\n",
       "      <th>2</th>\n",
       "      <td>7.8</td>\n",
       "      <td>0.760</td>\n",
       "      <td>0.04</td>\n",
       "      <td>2.3</td>\n",
       "      <td>0.092</td>\n",
       "      <td>15.0</td>\n",
       "      <td>54.0</td>\n",
       "      <td>0.99700</td>\n",
       "      <td>3.26</td>\n",
       "      <td>0.65</td>\n",
       "      <td>9.8</td>\n",
       "      <td>5</td>\n",
       "      <td>bad</td>\n",
       "    </tr>\n",
       "    <tr>\n",
       "      <th>3</th>\n",
       "      <td>11.2</td>\n",
       "      <td>0.280</td>\n",
       "      <td>0.56</td>\n",
       "      <td>1.9</td>\n",
       "      <td>0.075</td>\n",
       "      <td>17.0</td>\n",
       "      <td>60.0</td>\n",
       "      <td>0.99800</td>\n",
       "      <td>3.16</td>\n",
       "      <td>0.58</td>\n",
       "      <td>9.8</td>\n",
       "      <td>6</td>\n",
       "      <td>bad</td>\n",
       "    </tr>\n",
       "    <tr>\n",
       "      <th>4</th>\n",
       "      <td>7.4</td>\n",
       "      <td>0.700</td>\n",
       "      <td>0.00</td>\n",
       "      <td>1.9</td>\n",
       "      <td>0.076</td>\n",
       "      <td>11.0</td>\n",
       "      <td>34.0</td>\n",
       "      <td>0.99780</td>\n",
       "      <td>3.51</td>\n",
       "      <td>0.56</td>\n",
       "      <td>9.4</td>\n",
       "      <td>5</td>\n",
       "      <td>bad</td>\n",
       "    </tr>\n",
       "    <tr>\n",
       "      <th>...</th>\n",
       "      <td>...</td>\n",
       "      <td>...</td>\n",
       "      <td>...</td>\n",
       "      <td>...</td>\n",
       "      <td>...</td>\n",
       "      <td>...</td>\n",
       "      <td>...</td>\n",
       "      <td>...</td>\n",
       "      <td>...</td>\n",
       "      <td>...</td>\n",
       "      <td>...</td>\n",
       "      <td>...</td>\n",
       "      <td>...</td>\n",
       "    </tr>\n",
       "    <tr>\n",
       "      <th>1594</th>\n",
       "      <td>6.2</td>\n",
       "      <td>0.600</td>\n",
       "      <td>0.08</td>\n",
       "      <td>2.0</td>\n",
       "      <td>0.090</td>\n",
       "      <td>32.0</td>\n",
       "      <td>44.0</td>\n",
       "      <td>0.99490</td>\n",
       "      <td>3.45</td>\n",
       "      <td>0.58</td>\n",
       "      <td>10.5</td>\n",
       "      <td>5</td>\n",
       "      <td>bad</td>\n",
       "    </tr>\n",
       "    <tr>\n",
       "      <th>1595</th>\n",
       "      <td>5.9</td>\n",
       "      <td>0.550</td>\n",
       "      <td>0.10</td>\n",
       "      <td>2.2</td>\n",
       "      <td>0.062</td>\n",
       "      <td>39.0</td>\n",
       "      <td>51.0</td>\n",
       "      <td>0.99512</td>\n",
       "      <td>3.52</td>\n",
       "      <td>0.76</td>\n",
       "      <td>11.2</td>\n",
       "      <td>6</td>\n",
       "      <td>bad</td>\n",
       "    </tr>\n",
       "    <tr>\n",
       "      <th>1596</th>\n",
       "      <td>6.3</td>\n",
       "      <td>0.510</td>\n",
       "      <td>0.13</td>\n",
       "      <td>2.3</td>\n",
       "      <td>0.076</td>\n",
       "      <td>29.0</td>\n",
       "      <td>40.0</td>\n",
       "      <td>0.99574</td>\n",
       "      <td>3.42</td>\n",
       "      <td>0.75</td>\n",
       "      <td>11.0</td>\n",
       "      <td>6</td>\n",
       "      <td>bad</td>\n",
       "    </tr>\n",
       "    <tr>\n",
       "      <th>1597</th>\n",
       "      <td>5.9</td>\n",
       "      <td>0.645</td>\n",
       "      <td>0.12</td>\n",
       "      <td>2.0</td>\n",
       "      <td>0.075</td>\n",
       "      <td>32.0</td>\n",
       "      <td>44.0</td>\n",
       "      <td>0.99547</td>\n",
       "      <td>3.57</td>\n",
       "      <td>0.71</td>\n",
       "      <td>10.2</td>\n",
       "      <td>5</td>\n",
       "      <td>bad</td>\n",
       "    </tr>\n",
       "    <tr>\n",
       "      <th>1598</th>\n",
       "      <td>6.0</td>\n",
       "      <td>0.310</td>\n",
       "      <td>0.47</td>\n",
       "      <td>3.6</td>\n",
       "      <td>0.067</td>\n",
       "      <td>18.0</td>\n",
       "      <td>42.0</td>\n",
       "      <td>0.99549</td>\n",
       "      <td>3.39</td>\n",
       "      <td>0.66</td>\n",
       "      <td>11.0</td>\n",
       "      <td>6</td>\n",
       "      <td>bad</td>\n",
       "    </tr>\n",
       "  </tbody>\n",
       "</table>\n",
       "<p>1599 rows × 13 columns</p>\n",
       "</div>"
      ],
      "text/plain": [
       "      fixed_acidity  volatile_acidity  citric_acid  residual_sugar  chlorides  \\\n",
       "0               7.4             0.700         0.00             1.9      0.076   \n",
       "1               7.8             0.880         0.00             2.6      0.098   \n",
       "2               7.8             0.760         0.04             2.3      0.092   \n",
       "3              11.2             0.280         0.56             1.9      0.075   \n",
       "4               7.4             0.700         0.00             1.9      0.076   \n",
       "...             ...               ...          ...             ...        ...   \n",
       "1594            6.2             0.600         0.08             2.0      0.090   \n",
       "1595            5.9             0.550         0.10             2.2      0.062   \n",
       "1596            6.3             0.510         0.13             2.3      0.076   \n",
       "1597            5.9             0.645         0.12             2.0      0.075   \n",
       "1598            6.0             0.310         0.47             3.6      0.067   \n",
       "\n",
       "      free_sulfur_dioxide  total_sulfur_dioxide  density    pH  sulphates  \\\n",
       "0                    11.0                  34.0  0.99780  3.51       0.56   \n",
       "1                    25.0                  67.0  0.99680  3.20       0.68   \n",
       "2                    15.0                  54.0  0.99700  3.26       0.65   \n",
       "3                    17.0                  60.0  0.99800  3.16       0.58   \n",
       "4                    11.0                  34.0  0.99780  3.51       0.56   \n",
       "...                   ...                   ...      ...   ...        ...   \n",
       "1594                 32.0                  44.0  0.99490  3.45       0.58   \n",
       "1595                 39.0                  51.0  0.99512  3.52       0.76   \n",
       "1596                 29.0                  40.0  0.99574  3.42       0.75   \n",
       "1597                 32.0                  44.0  0.99547  3.57       0.71   \n",
       "1598                 18.0                  42.0  0.99549  3.39       0.66   \n",
       "\n",
       "      alcohol  quality quality2  \n",
       "0         9.4        5      bad  \n",
       "1         9.8        5      bad  \n",
       "2         9.8        5      bad  \n",
       "3         9.8        6      bad  \n",
       "4         9.4        5      bad  \n",
       "...       ...      ...      ...  \n",
       "1594     10.5        5      bad  \n",
       "1595     11.2        6      bad  \n",
       "1596     11.0        6      bad  \n",
       "1597     10.2        5      bad  \n",
       "1598     11.0        6      bad  \n",
       "\n",
       "[1599 rows x 13 columns]"
      ]
     },
     "execution_count": 74,
     "metadata": {},
     "output_type": "execute_result"
    }
   ],
   "source": [
    "ds_quality = {3:'bad', 4:'bad',5:'bad',6:'bad',7:'good',8:'good'}\n",
    "ds['quality2'] = ds.quality.map(ds_quality)\n",
    "ds"
   ]
  },
  {
   "cell_type": "code",
   "execution_count": 75,
   "id": "ae223cb4",
   "metadata": {},
   "outputs": [
    {
     "data": {
      "text/html": [
       "<div>\n",
       "<style scoped>\n",
       "    .dataframe tbody tr th:only-of-type {\n",
       "        vertical-align: middle;\n",
       "    }\n",
       "\n",
       "    .dataframe tbody tr th {\n",
       "        vertical-align: top;\n",
       "    }\n",
       "\n",
       "    .dataframe thead th {\n",
       "        text-align: right;\n",
       "    }\n",
       "</style>\n",
       "<table border=\"1\" class=\"dataframe\">\n",
       "  <thead>\n",
       "    <tr style=\"text-align: right;\">\n",
       "      <th></th>\n",
       "      <th>fixed_acidity</th>\n",
       "      <th>volatile_acidity</th>\n",
       "      <th>citric_acid</th>\n",
       "      <th>residual_sugar</th>\n",
       "      <th>chlorides</th>\n",
       "      <th>free_sulfur_dioxide</th>\n",
       "      <th>total_sulfur_dioxide</th>\n",
       "      <th>density</th>\n",
       "      <th>pH</th>\n",
       "      <th>sulphates</th>\n",
       "      <th>alcohol</th>\n",
       "      <th>quality</th>\n",
       "      <th>quality2</th>\n",
       "    </tr>\n",
       "  </thead>\n",
       "  <tbody>\n",
       "    <tr>\n",
       "      <th>0</th>\n",
       "      <td>7.4</td>\n",
       "      <td>0.700</td>\n",
       "      <td>0.00</td>\n",
       "      <td>1.9</td>\n",
       "      <td>0.076</td>\n",
       "      <td>11.0</td>\n",
       "      <td>34.0</td>\n",
       "      <td>0.99780</td>\n",
       "      <td>3.51</td>\n",
       "      <td>0.56</td>\n",
       "      <td>9.4</td>\n",
       "      <td>5</td>\n",
       "      <td>0</td>\n",
       "    </tr>\n",
       "    <tr>\n",
       "      <th>1</th>\n",
       "      <td>7.8</td>\n",
       "      <td>0.880</td>\n",
       "      <td>0.00</td>\n",
       "      <td>2.6</td>\n",
       "      <td>0.098</td>\n",
       "      <td>25.0</td>\n",
       "      <td>67.0</td>\n",
       "      <td>0.99680</td>\n",
       "      <td>3.20</td>\n",
       "      <td>0.68</td>\n",
       "      <td>9.8</td>\n",
       "      <td>5</td>\n",
       "      <td>0</td>\n",
       "    </tr>\n",
       "    <tr>\n",
       "      <th>2</th>\n",
       "      <td>7.8</td>\n",
       "      <td>0.760</td>\n",
       "      <td>0.04</td>\n",
       "      <td>2.3</td>\n",
       "      <td>0.092</td>\n",
       "      <td>15.0</td>\n",
       "      <td>54.0</td>\n",
       "      <td>0.99700</td>\n",
       "      <td>3.26</td>\n",
       "      <td>0.65</td>\n",
       "      <td>9.8</td>\n",
       "      <td>5</td>\n",
       "      <td>0</td>\n",
       "    </tr>\n",
       "    <tr>\n",
       "      <th>3</th>\n",
       "      <td>11.2</td>\n",
       "      <td>0.280</td>\n",
       "      <td>0.56</td>\n",
       "      <td>1.9</td>\n",
       "      <td>0.075</td>\n",
       "      <td>17.0</td>\n",
       "      <td>60.0</td>\n",
       "      <td>0.99800</td>\n",
       "      <td>3.16</td>\n",
       "      <td>0.58</td>\n",
       "      <td>9.8</td>\n",
       "      <td>6</td>\n",
       "      <td>0</td>\n",
       "    </tr>\n",
       "    <tr>\n",
       "      <th>4</th>\n",
       "      <td>7.4</td>\n",
       "      <td>0.700</td>\n",
       "      <td>0.00</td>\n",
       "      <td>1.9</td>\n",
       "      <td>0.076</td>\n",
       "      <td>11.0</td>\n",
       "      <td>34.0</td>\n",
       "      <td>0.99780</td>\n",
       "      <td>3.51</td>\n",
       "      <td>0.56</td>\n",
       "      <td>9.4</td>\n",
       "      <td>5</td>\n",
       "      <td>0</td>\n",
       "    </tr>\n",
       "    <tr>\n",
       "      <th>...</th>\n",
       "      <td>...</td>\n",
       "      <td>...</td>\n",
       "      <td>...</td>\n",
       "      <td>...</td>\n",
       "      <td>...</td>\n",
       "      <td>...</td>\n",
       "      <td>...</td>\n",
       "      <td>...</td>\n",
       "      <td>...</td>\n",
       "      <td>...</td>\n",
       "      <td>...</td>\n",
       "      <td>...</td>\n",
       "      <td>...</td>\n",
       "    </tr>\n",
       "    <tr>\n",
       "      <th>1594</th>\n",
       "      <td>6.2</td>\n",
       "      <td>0.600</td>\n",
       "      <td>0.08</td>\n",
       "      <td>2.0</td>\n",
       "      <td>0.090</td>\n",
       "      <td>32.0</td>\n",
       "      <td>44.0</td>\n",
       "      <td>0.99490</td>\n",
       "      <td>3.45</td>\n",
       "      <td>0.58</td>\n",
       "      <td>10.5</td>\n",
       "      <td>5</td>\n",
       "      <td>0</td>\n",
       "    </tr>\n",
       "    <tr>\n",
       "      <th>1595</th>\n",
       "      <td>5.9</td>\n",
       "      <td>0.550</td>\n",
       "      <td>0.10</td>\n",
       "      <td>2.2</td>\n",
       "      <td>0.062</td>\n",
       "      <td>39.0</td>\n",
       "      <td>51.0</td>\n",
       "      <td>0.99512</td>\n",
       "      <td>3.52</td>\n",
       "      <td>0.76</td>\n",
       "      <td>11.2</td>\n",
       "      <td>6</td>\n",
       "      <td>0</td>\n",
       "    </tr>\n",
       "    <tr>\n",
       "      <th>1596</th>\n",
       "      <td>6.3</td>\n",
       "      <td>0.510</td>\n",
       "      <td>0.13</td>\n",
       "      <td>2.3</td>\n",
       "      <td>0.076</td>\n",
       "      <td>29.0</td>\n",
       "      <td>40.0</td>\n",
       "      <td>0.99574</td>\n",
       "      <td>3.42</td>\n",
       "      <td>0.75</td>\n",
       "      <td>11.0</td>\n",
       "      <td>6</td>\n",
       "      <td>0</td>\n",
       "    </tr>\n",
       "    <tr>\n",
       "      <th>1597</th>\n",
       "      <td>5.9</td>\n",
       "      <td>0.645</td>\n",
       "      <td>0.12</td>\n",
       "      <td>2.0</td>\n",
       "      <td>0.075</td>\n",
       "      <td>32.0</td>\n",
       "      <td>44.0</td>\n",
       "      <td>0.99547</td>\n",
       "      <td>3.57</td>\n",
       "      <td>0.71</td>\n",
       "      <td>10.2</td>\n",
       "      <td>5</td>\n",
       "      <td>0</td>\n",
       "    </tr>\n",
       "    <tr>\n",
       "      <th>1598</th>\n",
       "      <td>6.0</td>\n",
       "      <td>0.310</td>\n",
       "      <td>0.47</td>\n",
       "      <td>3.6</td>\n",
       "      <td>0.067</td>\n",
       "      <td>18.0</td>\n",
       "      <td>42.0</td>\n",
       "      <td>0.99549</td>\n",
       "      <td>3.39</td>\n",
       "      <td>0.66</td>\n",
       "      <td>11.0</td>\n",
       "      <td>6</td>\n",
       "      <td>0</td>\n",
       "    </tr>\n",
       "  </tbody>\n",
       "</table>\n",
       "<p>1599 rows × 13 columns</p>\n",
       "</div>"
      ],
      "text/plain": [
       "      fixed_acidity  volatile_acidity  citric_acid  residual_sugar  chlorides  \\\n",
       "0               7.4             0.700         0.00             1.9      0.076   \n",
       "1               7.8             0.880         0.00             2.6      0.098   \n",
       "2               7.8             0.760         0.04             2.3      0.092   \n",
       "3              11.2             0.280         0.56             1.9      0.075   \n",
       "4               7.4             0.700         0.00             1.9      0.076   \n",
       "...             ...               ...          ...             ...        ...   \n",
       "1594            6.2             0.600         0.08             2.0      0.090   \n",
       "1595            5.9             0.550         0.10             2.2      0.062   \n",
       "1596            6.3             0.510         0.13             2.3      0.076   \n",
       "1597            5.9             0.645         0.12             2.0      0.075   \n",
       "1598            6.0             0.310         0.47             3.6      0.067   \n",
       "\n",
       "      free_sulfur_dioxide  total_sulfur_dioxide  density    pH  sulphates  \\\n",
       "0                    11.0                  34.0  0.99780  3.51       0.56   \n",
       "1                    25.0                  67.0  0.99680  3.20       0.68   \n",
       "2                    15.0                  54.0  0.99700  3.26       0.65   \n",
       "3                    17.0                  60.0  0.99800  3.16       0.58   \n",
       "4                    11.0                  34.0  0.99780  3.51       0.56   \n",
       "...                   ...                   ...      ...   ...        ...   \n",
       "1594                 32.0                  44.0  0.99490  3.45       0.58   \n",
       "1595                 39.0                  51.0  0.99512  3.52       0.76   \n",
       "1596                 29.0                  40.0  0.99574  3.42       0.75   \n",
       "1597                 32.0                  44.0  0.99547  3.57       0.71   \n",
       "1598                 18.0                  42.0  0.99549  3.39       0.66   \n",
       "\n",
       "      alcohol  quality  quality2  \n",
       "0         9.4        5         0  \n",
       "1         9.8        5         0  \n",
       "2         9.8        5         0  \n",
       "3         9.8        6         0  \n",
       "4         9.4        5         0  \n",
       "...       ...      ...       ...  \n",
       "1594     10.5        5         0  \n",
       "1595     11.2        6         0  \n",
       "1596     11.0        6         0  \n",
       "1597     10.2        5         0  \n",
       "1598     11.0        6         0  \n",
       "\n",
       "[1599 rows x 13 columns]"
      ]
     },
     "execution_count": 75,
     "metadata": {},
     "output_type": "execute_result"
    }
   ],
   "source": [
    "le = LabelEncoder()\n",
    "ds['quality2']=le.fit_transform(ds['quality2'])\n",
    "ds"
   ]
  },
  {
   "cell_type": "code",
   "execution_count": 76,
   "id": "60f8f5c0",
   "metadata": {},
   "outputs": [
    {
     "data": {
      "text/plain": [
       "[Text(0.5, 1.0, 'HISTOGRAM OF WINE QUALITY'),\n",
       " Text(0.5, 0, 'quality'),\n",
       " Text(0, 0.5, 'count')]"
      ]
     },
     "execution_count": 76,
     "metadata": {},
     "output_type": "execute_result"
    },
    {
     "data": {
      "image/png": "[encoded data removed]",
      "text/plain": [
       "<Figure size 432x288 with 1 Axes>"
      ]
     },
     "metadata": {
      "needs_background": "light"
     },
     "output_type": "display_data"
    }
   ],
   "source": [
    "plt = sns.countplot(x='quality2',data=ds)\n",
    "plt.set(title='HISTOGRAM OF WINE QUALITY',xlabel='quality',ylabel='count')"
   ]
  },
  {
   "cell_type": "code",
   "execution_count": 77,
   "id": "da1b24fa",
   "metadata": {},
   "outputs": [
    {
     "data": {
      "text/plain": [
       "<AxesSubplot:>"
      ]
     },
     "execution_count": 77,
     "metadata": {},
     "output_type": "execute_result"
    },
    {
     "data": {
      "image/png": "[encoded data removed]",
      "text/plain": [
       "<Figure size 720x720 with 2 Axes>"
      ]
     },
     "metadata": {
      "needs_background": "light"
     },
     "output_type": "display_data"
    }
   ],
   "source": [
    "from matplotlib import pyplot as plt\n",
    "plt.figure(figsize = (10,10))\n",
    "sns.heatmap(ds.corr(),color ='k',annot=True)"
   ]
  },
  {
   "cell_type": "code",
   "execution_count": 78,
   "id": "c357d8a0",
   "metadata": {},
   "outputs": [],
   "source": [
    "dszscore=np.abs(zscore(ds))"
   ]
  },
  {
   "cell_type": "code",
   "execution_count": 79,
   "id": "ae823459",
   "metadata": {},
   "outputs": [
    {
     "name": "stdout",
     "output_type": "stream",
     "text": [
      "(array([  13,   14,   15,   15,   17,   17,   19,   33,   38,   42,   43,\n",
      "         45,   57,   81,   81,   83,   86,   88,   91,   92,   95,  106,\n",
      "        106,  109,  120,  126,  127,  142,  144,  147,  151,  151,  151,\n",
      "        151,  163,  164,  169,  169,  181,  199,  226,  226,  240,  243,\n",
      "        244,  258,  258,  274,  281,  291,  324,  325,  339,  340,  347,\n",
      "        354,  374,  381,  391,  396,  396,  400,  400,  442,  442,  451,\n",
      "        459,  467,  480,  480,  494,  515,  517,  544,  554,  554,  555,\n",
      "        555,  557,  557,  568,  584,  588,  591,  595,  608,  614,  636,\n",
      "        639,  649,  649,  651,  652,  652,  652,  672,  672,  684,  690,\n",
      "        690,  692,  692,  695,  723,  724,  730,  754,  776,  777,  795,\n",
      "        821,  832,  836,  837,  889,  899,  911,  917,  923,  925,  926,\n",
      "        982, 1017, 1018, 1043, 1051, 1051, 1071, 1074, 1079, 1079, 1081,\n",
      "       1081, 1111, 1114, 1131, 1154, 1165, 1175, 1186, 1231, 1235, 1244,\n",
      "       1244, 1244, 1260, 1269, 1269, 1270, 1270, 1288, 1289, 1295, 1296,\n",
      "       1299, 1299, 1300, 1312, 1316, 1319, 1319, 1321, 1358, 1367, 1370,\n",
      "       1370, 1372, 1372, 1374, 1374, 1434, 1434, 1434, 1435, 1435, 1435,\n",
      "       1469, 1474, 1474, 1474, 1476, 1476, 1476, 1478, 1493, 1496, 1505,\n",
      "       1558, 1558, 1570, 1574, 1589], dtype=int64), array([ 9,  5,  5,  6,  4,  9,  4,  3,  1,  4,  9,  8,  5,  4,  9,  4,  9,\n",
      "        9,  9,  9,  8,  4,  9,  6,  1,  1,  1, 10, 10,  4,  2,  4,  8,  9,\n",
      "        3,  3,  4,  9,  4,  1,  4,  9,  4,  0,  0,  4,  9,  3,  4,  4,  3,\n",
      "        3,  9,  9,  0,  6,  0,  0,  0,  3,  5,  3,  5,  0,  7,  4, 11, 10,\n",
      "        3,  7,  3,  6, 11,  0,  0,  7,  0,  7,  0,  7,  4,  5, 10,  6,  3,\n",
      "        7,  9,  6,  9,  3,  6,  6,  0,  3, 10,  1,  6,  6,  1, 11,  4,  9,\n",
      "        8,  9,  1,  4,  4,  4,  4,  9, 10, 11,  7,  7,  7, 11,  3,  3,  3,\n",
      "        5,  5,  5,  7,  7,  3,  4,  9,  3,  3,  3,  6,  3,  6,  8,  7,  5,\n",
      "        5,  4,  5,  3,  5,  3,  3,  5,  6,  4,  7, 10,  7, 10,  9,  9,  5,\n",
      "        5,  1, 11,  8,  1,  8,  4,  9,  8,  5,  9,  4,  9,  4,  9,  4, 11,\n",
      "        3,  5,  7,  3,  5,  7, 11,  3,  5,  7,  3,  5,  7, 11,  6,  6, 11,\n",
      "        4,  5,  4,  3,  3], dtype=int64))\n"
     ]
    }
   ],
   "source": [
    "print(np.where(dszscore>3))"
   ]
  },
  {
   "cell_type": "code",
   "execution_count": 80,
   "id": "4fcd8319",
   "metadata": {},
   "outputs": [
    {
     "name": "stdout",
     "output_type": "stream",
     "text": [
      "dfnew.shape= (1451, 13)\n"
     ]
    }
   ],
   "source": [
    "dsnew=ds[(dszscore<3).all(axis=1)]\n",
    "print('dfnew.shape=',dsnew.shape)\n",
    "ds=dsnew"
   ]
  },
  {
   "cell_type": "code",
   "execution_count": 81,
   "id": "136a73c2",
   "metadata": {},
   "outputs": [
    {
     "data": {
      "text/html": [
       "<div>\n",
       "<style scoped>\n",
       "    .dataframe tbody tr th:only-of-type {\n",
       "        vertical-align: middle;\n",
       "    }\n",
       "\n",
       "    .dataframe tbody tr th {\n",
       "        vertical-align: top;\n",
       "    }\n",
       "\n",
       "    .dataframe thead th {\n",
       "        text-align: right;\n",
       "    }\n",
       "</style>\n",
       "<table border=\"1\" class=\"dataframe\">\n",
       "  <thead>\n",
       "    <tr style=\"text-align: right;\">\n",
       "      <th></th>\n",
       "      <th>fixed_acidity</th>\n",
       "      <th>volatile_acidity</th>\n",
       "      <th>citric_acid</th>\n",
       "      <th>residual_sugar</th>\n",
       "      <th>chlorides</th>\n",
       "      <th>free_sulfur_dioxide</th>\n",
       "      <th>total_sulfur_dioxide</th>\n",
       "      <th>density</th>\n",
       "      <th>pH</th>\n",
       "      <th>sulphates</th>\n",
       "      <th>alcohol</th>\n",
       "      <th>quality</th>\n",
       "      <th>quality2</th>\n",
       "    </tr>\n",
       "  </thead>\n",
       "  <tbody>\n",
       "    <tr>\n",
       "      <th>fixed_acidity</th>\n",
       "      <td>1.000000</td>\n",
       "      <td>-0.297150</td>\n",
       "      <td>0.698363</td>\n",
       "      <td>0.180293</td>\n",
       "      <td>0.183549</td>\n",
       "      <td>-0.148815</td>\n",
       "      <td>-0.099928</td>\n",
       "      <td>0.659927</td>\n",
       "      <td>-0.705572</td>\n",
       "      <td>0.200371</td>\n",
       "      <td>-0.015114</td>\n",
       "      <td>0.145163</td>\n",
       "      <td>0.125791</td>\n",
       "    </tr>\n",
       "    <tr>\n",
       "      <th>volatile_acidity</th>\n",
       "      <td>-0.297150</td>\n",
       "      <td>1.000000</td>\n",
       "      <td>-0.589452</td>\n",
       "      <td>0.025977</td>\n",
       "      <td>0.072709</td>\n",
       "      <td>0.013943</td>\n",
       "      <td>0.110338</td>\n",
       "      <td>-0.004957</td>\n",
       "      <td>0.251343</td>\n",
       "      <td>-0.348126</td>\n",
       "      <td>-0.213213</td>\n",
       "      <td>-0.353443</td>\n",
       "      <td>-0.267836</td>\n",
       "    </tr>\n",
       "    <tr>\n",
       "      <th>citric_acid</th>\n",
       "      <td>0.698363</td>\n",
       "      <td>-0.589452</td>\n",
       "      <td>1.000000</td>\n",
       "      <td>0.184960</td>\n",
       "      <td>0.100361</td>\n",
       "      <td>-0.074441</td>\n",
       "      <td>0.005301</td>\n",
       "      <td>0.371729</td>\n",
       "      <td>-0.520311</td>\n",
       "      <td>0.302815</td>\n",
       "      <td>0.168766</td>\n",
       "      <td>0.243999</td>\n",
       "      <td>0.227633</td>\n",
       "    </tr>\n",
       "    <tr>\n",
       "      <th>residual_sugar</th>\n",
       "      <td>0.180293</td>\n",
       "      <td>0.025977</td>\n",
       "      <td>0.184960</td>\n",
       "      <td>1.000000</td>\n",
       "      <td>0.126735</td>\n",
       "      <td>-0.000844</td>\n",
       "      <td>0.095093</td>\n",
       "      <td>0.344801</td>\n",
       "      <td>-0.075140</td>\n",
       "      <td>0.076129</td>\n",
       "      <td>0.162533</td>\n",
       "      <td>0.061482</td>\n",
       "      <td>0.117036</td>\n",
       "    </tr>\n",
       "    <tr>\n",
       "      <th>chlorides</th>\n",
       "      <td>0.183549</td>\n",
       "      <td>0.072709</td>\n",
       "      <td>0.100361</td>\n",
       "      <td>0.126735</td>\n",
       "      <td>1.000000</td>\n",
       "      <td>-0.058163</td>\n",
       "      <td>0.045025</td>\n",
       "      <td>0.328695</td>\n",
       "      <td>-0.182841</td>\n",
       "      <td>0.022107</td>\n",
       "      <td>-0.205414</td>\n",
       "      <td>-0.108787</td>\n",
       "      <td>-0.112080</td>\n",
       "    </tr>\n",
       "    <tr>\n",
       "      <th>free_sulfur_dioxide</th>\n",
       "      <td>-0.148815</td>\n",
       "      <td>0.013943</td>\n",
       "      <td>-0.074441</td>\n",
       "      <td>-0.000844</td>\n",
       "      <td>-0.058163</td>\n",
       "      <td>1.000000</td>\n",
       "      <td>0.660188</td>\n",
       "      <td>-0.037630</td>\n",
       "      <td>0.108831</td>\n",
       "      <td>0.055956</td>\n",
       "      <td>-0.077993</td>\n",
       "      <td>-0.071202</td>\n",
       "      <td>-0.086402</td>\n",
       "    </tr>\n",
       "    <tr>\n",
       "      <th>total_sulfur_dioxide</th>\n",
       "      <td>-0.099928</td>\n",
       "      <td>0.110338</td>\n",
       "      <td>0.005301</td>\n",
       "      <td>0.095093</td>\n",
       "      <td>0.045025</td>\n",
       "      <td>0.660188</td>\n",
       "      <td>1.000000</td>\n",
       "      <td>0.118965</td>\n",
       "      <td>-0.005940</td>\n",
       "      <td>-0.039024</td>\n",
       "      <td>-0.259952</td>\n",
       "      <td>-0.237745</td>\n",
       "      <td>-0.172638</td>\n",
       "    </tr>\n",
       "    <tr>\n",
       "      <th>density</th>\n",
       "      <td>0.659927</td>\n",
       "      <td>-0.004957</td>\n",
       "      <td>0.371729</td>\n",
       "      <td>0.344801</td>\n",
       "      <td>0.328695</td>\n",
       "      <td>-0.037630</td>\n",
       "      <td>0.118965</td>\n",
       "      <td>1.000000</td>\n",
       "      <td>-0.312310</td>\n",
       "      <td>0.129896</td>\n",
       "      <td>-0.468312</td>\n",
       "      <td>-0.167568</td>\n",
       "      <td>-0.153031</td>\n",
       "    </tr>\n",
       "    <tr>\n",
       "      <th>pH</th>\n",
       "      <td>-0.705572</td>\n",
       "      <td>0.251343</td>\n",
       "      <td>-0.520311</td>\n",
       "      <td>-0.075140</td>\n",
       "      <td>-0.182841</td>\n",
       "      <td>0.108831</td>\n",
       "      <td>-0.005940</td>\n",
       "      <td>-0.312310</td>\n",
       "      <td>1.000000</td>\n",
       "      <td>-0.039082</td>\n",
       "      <td>0.135624</td>\n",
       "      <td>-0.082164</td>\n",
       "      <td>-0.079105</td>\n",
       "    </tr>\n",
       "    <tr>\n",
       "      <th>sulphates</th>\n",
       "      <td>0.200371</td>\n",
       "      <td>-0.348126</td>\n",
       "      <td>0.302815</td>\n",
       "      <td>0.076129</td>\n",
       "      <td>0.022107</td>\n",
       "      <td>0.055956</td>\n",
       "      <td>-0.039024</td>\n",
       "      <td>0.129896</td>\n",
       "      <td>-0.039082</td>\n",
       "      <td>1.000000</td>\n",
       "      <td>0.241636</td>\n",
       "      <td>0.386567</td>\n",
       "      <td>0.310432</td>\n",
       "    </tr>\n",
       "    <tr>\n",
       "      <th>alcohol</th>\n",
       "      <td>-0.015114</td>\n",
       "      <td>-0.213213</td>\n",
       "      <td>0.168766</td>\n",
       "      <td>0.162533</td>\n",
       "      <td>-0.205414</td>\n",
       "      <td>-0.077993</td>\n",
       "      <td>-0.259952</td>\n",
       "      <td>-0.468312</td>\n",
       "      <td>0.135624</td>\n",
       "      <td>0.241636</td>\n",
       "      <td>1.000000</td>\n",
       "      <td>0.501501</td>\n",
       "      <td>0.430906</td>\n",
       "    </tr>\n",
       "    <tr>\n",
       "      <th>quality</th>\n",
       "      <td>0.145163</td>\n",
       "      <td>-0.353443</td>\n",
       "      <td>0.243999</td>\n",
       "      <td>0.061482</td>\n",
       "      <td>-0.108787</td>\n",
       "      <td>-0.071202</td>\n",
       "      <td>-0.237745</td>\n",
       "      <td>-0.167568</td>\n",
       "      <td>-0.082164</td>\n",
       "      <td>0.386567</td>\n",
       "      <td>0.501501</td>\n",
       "      <td>1.000000</td>\n",
       "      <td>0.728804</td>\n",
       "    </tr>\n",
       "    <tr>\n",
       "      <th>quality2</th>\n",
       "      <td>0.125791</td>\n",
       "      <td>-0.267836</td>\n",
       "      <td>0.227633</td>\n",
       "      <td>0.117036</td>\n",
       "      <td>-0.112080</td>\n",
       "      <td>-0.086402</td>\n",
       "      <td>-0.172638</td>\n",
       "      <td>-0.153031</td>\n",
       "      <td>-0.079105</td>\n",
       "      <td>0.310432</td>\n",
       "      <td>0.430906</td>\n",
       "      <td>0.728804</td>\n",
       "      <td>1.000000</td>\n",
       "    </tr>\n",
       "  </tbody>\n",
       "</table>\n",
       "</div>"
      ],
      "text/plain": [
       "                      fixed_acidity  volatile_acidity  citric_acid  \\\n",
       "fixed_acidity              1.000000         -0.297150     0.698363   \n",
       "volatile_acidity          -0.297150          1.000000    -0.589452   \n",
       "citric_acid                0.698363         -0.589452     1.000000   \n",
       "residual_sugar             0.180293          0.025977     0.184960   \n",
       "chlorides                  0.183549          0.072709     0.100361   \n",
       "free_sulfur_dioxide       -0.148815          0.013943    -0.074441   \n",
       "total_sulfur_dioxide      -0.099928          0.110338     0.005301   \n",
       "density                    0.659927         -0.004957     0.371729   \n",
       "pH                        -0.705572          0.251343    -0.520311   \n",
       "sulphates                  0.200371         -0.348126     0.302815   \n",
       "alcohol                   -0.015114         -0.213213     0.168766   \n",
       "quality                    0.145163         -0.353443     0.243999   \n",
       "quality2                   0.125791         -0.267836     0.227633   \n",
       "\n",
       "                      residual_sugar  chlorides  free_sulfur_dioxide  \\\n",
       "fixed_acidity               0.180293   0.183549            -0.148815   \n",
       "volatile_acidity            0.025977   0.072709             0.013943   \n",
       "citric_acid                 0.184960   0.100361            -0.074441   \n",
       "residual_sugar              1.000000   0.126735            -0.000844   \n",
       "chlorides                   0.126735   1.000000            -0.058163   \n",
       "free_sulfur_dioxide        -0.000844  -0.058163             1.000000   \n",
       "total_sulfur_dioxide        0.095093   0.045025             0.660188   \n",
       "density                     0.344801   0.328695            -0.037630   \n",
       "pH                         -0.075140  -0.182841             0.108831   \n",
       "sulphates                   0.076129   0.022107             0.055956   \n",
       "alcohol                     0.162533  -0.205414            -0.077993   \n",
       "quality                     0.061482  -0.108787            -0.071202   \n",
       "quality2                    0.117036  -0.112080            -0.086402   \n",
       "\n",
       "                      total_sulfur_dioxide   density        pH  sulphates  \\\n",
       "fixed_acidity                    -0.099928  0.659927 -0.705572   0.200371   \n",
       "volatile_acidity                  0.110338 -0.004957  0.251343  -0.348126   \n",
       "citric_acid                       0.005301  0.371729 -0.520311   0.302815   \n",
       "residual_sugar                    0.095093  0.344801 -0.075140   0.076129   \n",
       "chlorides                         0.045025  0.328695 -0.182841   0.022107   \n",
       "free_sulfur_dioxide               0.660188 -0.037630  0.108831   0.055956   \n",
       "total_sulfur_dioxide              1.000000  0.118965 -0.005940  -0.039024   \n",
       "density                           0.118965  1.000000 -0.312310   0.129896   \n",
       "pH                               -0.005940 -0.312310  1.000000  -0.039082   \n",
       "sulphates                        -0.039024  0.129896 -0.039082   1.000000   \n",
       "alcohol                          -0.259952 -0.468312  0.135624   0.241636   \n",
       "quality                          -0.237745 -0.167568 -0.082164   0.386567   \n",
       "quality2                         -0.172638 -0.153031 -0.079105   0.310432   \n",
       "\n",
       "                       alcohol   quality  quality2  \n",
       "fixed_acidity        -0.015114  0.145163  0.125791  \n",
       "volatile_acidity     -0.213213 -0.353443 -0.267836  \n",
       "citric_acid           0.168766  0.243999  0.227633  \n",
       "residual_sugar        0.162533  0.061482  0.117036  \n",
       "chlorides            -0.205414 -0.108787 -0.112080  \n",
       "free_sulfur_dioxide  -0.077993 -0.071202 -0.086402  \n",
       "total_sulfur_dioxide -0.259952 -0.237745 -0.172638  \n",
       "density              -0.468312 -0.167568 -0.153031  \n",
       "pH                    0.135624 -0.082164 -0.079105  \n",
       "sulphates             0.241636  0.386567  0.310432  \n",
       "alcohol               1.000000  0.501501  0.430906  \n",
       "quality               0.501501  1.000000  0.728804  \n",
       "quality2              0.430906  0.728804  1.000000  "
      ]
     },
     "execution_count": 81,
     "metadata": {},
     "output_type": "execute_result"
    }
   ],
   "source": [
    "ds.corr()"
   ]
  },
  {
   "cell_type": "code",
   "execution_count": 82,
   "id": "f362099b",
   "metadata": {},
   "outputs": [
    {
     "data": {
      "text/plain": [
       "fixed_acidity           0.823934\n",
       "volatile_acidity        0.380659\n",
       "citric_acid             0.291297\n",
       "residual_sugar          2.456107\n",
       "chlorides               2.275162\n",
       "free_sulfur_dioxide     0.869250\n",
       "total_sulfur_dioxide    1.183161\n",
       "density                 0.055738\n",
       "pH                      0.114705\n",
       "sulphates               0.891492\n",
       "alcohol                 0.758958\n",
       "quality                 0.407865\n",
       "quality2                2.094941\n",
       "dtype: float64"
      ]
     },
     "execution_count": 82,
     "metadata": {},
     "output_type": "execute_result"
    }
   ],
   "source": [
    "ds.skew()"
   ]
  },
  {
   "cell_type": "code",
   "execution_count": 83,
   "id": "11b69286",
   "metadata": {},
   "outputs": [],
   "source": [
    "from sklearn.preprocessing import power_transform\n",
    "x_new = power_transform(ds)"
   ]
  },
  {
   "cell_type": "code",
   "execution_count": 84,
   "id": "db030f23",
   "metadata": {},
   "outputs": [
    {
     "data": {
      "text/html": [
       "<div>\n",
       "<style scoped>\n",
       "    .dataframe tbody tr th:only-of-type {\n",
       "        vertical-align: middle;\n",
       "    }\n",
       "\n",
       "    .dataframe tbody tr th {\n",
       "        vertical-align: top;\n",
       "    }\n",
       "\n",
       "    .dataframe thead th {\n",
       "        text-align: right;\n",
       "    }\n",
       "</style>\n",
       "<table border=\"1\" class=\"dataframe\">\n",
       "  <thead>\n",
       "    <tr style=\"text-align: right;\">\n",
       "      <th></th>\n",
       "      <th>fixed_acidity</th>\n",
       "      <th>volatile_acidity</th>\n",
       "      <th>citric_acid</th>\n",
       "      <th>residual_sugar</th>\n",
       "      <th>chlorides</th>\n",
       "      <th>free_sulfur_dioxide</th>\n",
       "      <th>total_sulfur_dioxide</th>\n",
       "      <th>density</th>\n",
       "      <th>pH</th>\n",
       "      <th>sulphates</th>\n",
       "      <th>alcohol</th>\n",
       "      <th>quality</th>\n",
       "      <th>quality2</th>\n",
       "    </tr>\n",
       "  </thead>\n",
       "  <tbody>\n",
       "    <tr>\n",
       "      <th>0</th>\n",
       "      <td>-0.467878</td>\n",
       "      <td>1.055740</td>\n",
       "      <td>-1.524506</td>\n",
       "      <td>-0.610683</td>\n",
       "      <td>-0.145035</td>\n",
       "      <td>-0.241492</td>\n",
       "      <td>-0.066536</td>\n",
       "      <td>0.640791</td>\n",
       "      <td>1.360860</td>\n",
       "      <td>-0.589657</td>\n",
       "      <td>-1.120424</td>\n",
       "      <td>-0.833369</td>\n",
       "      <td>-0.400999</td>\n",
       "    </tr>\n",
       "    <tr>\n",
       "      <th>1</th>\n",
       "      <td>-0.170805</td>\n",
       "      <td>1.919750</td>\n",
       "      <td>-1.524506</td>\n",
       "      <td>0.649155</td>\n",
       "      <td>0.986838</td>\n",
       "      <td>1.091561</td>\n",
       "      <td>0.952517</td>\n",
       "      <td>0.061011</td>\n",
       "      <td>-0.816507</td>\n",
       "      <td>0.451524</td>\n",
       "      <td>-0.530340</td>\n",
       "      <td>-0.833369</td>\n",
       "      <td>-0.400999</td>\n",
       "    </tr>\n",
       "    <tr>\n",
       "      <th>2</th>\n",
       "      <td>-0.170805</td>\n",
       "      <td>1.357067</td>\n",
       "      <td>-1.245434</td>\n",
       "      <td>0.207601</td>\n",
       "      <td>0.718578</td>\n",
       "      <td>0.238587</td>\n",
       "      <td>0.624244</td>\n",
       "      <td>0.177435</td>\n",
       "      <td>-0.380977</td>\n",
       "      <td>0.220005</td>\n",
       "      <td>-0.530340</td>\n",
       "      <td>-0.833369</td>\n",
       "      <td>-0.400999</td>\n",
       "    </tr>\n",
       "    <tr>\n",
       "      <th>3</th>\n",
       "      <td>1.573404</td>\n",
       "      <td>-1.556675</td>\n",
       "      <td>1.444056</td>\n",
       "      <td>-0.610683</td>\n",
       "      <td>-0.207213</td>\n",
       "      <td>0.440493</td>\n",
       "      <td>0.784119</td>\n",
       "      <td>0.756049</td>\n",
       "      <td>-1.110847</td>\n",
       "      <td>-0.393177</td>\n",
       "      <td>-0.530340</td>\n",
       "      <td>0.502485</td>\n",
       "      <td>-0.400999</td>\n",
       "    </tr>\n",
       "    <tr>\n",
       "      <th>4</th>\n",
       "      <td>-0.467878</td>\n",
       "      <td>1.055740</td>\n",
       "      <td>-1.524506</td>\n",
       "      <td>-0.610683</td>\n",
       "      <td>-0.145035</td>\n",
       "      <td>-0.241492</td>\n",
       "      <td>-0.066536</td>\n",
       "      <td>0.640791</td>\n",
       "      <td>1.360860</td>\n",
       "      <td>-0.589657</td>\n",
       "      <td>-1.120424</td>\n",
       "      <td>-0.833369</td>\n",
       "      <td>-0.400999</td>\n",
       "    </tr>\n",
       "    <tr>\n",
       "      <th>...</th>\n",
       "      <td>...</td>\n",
       "      <td>...</td>\n",
       "      <td>...</td>\n",
       "      <td>...</td>\n",
       "      <td>...</td>\n",
       "      <td>...</td>\n",
       "      <td>...</td>\n",
       "      <td>...</td>\n",
       "      <td>...</td>\n",
       "      <td>...</td>\n",
       "      <td>...</td>\n",
       "      <td>...</td>\n",
       "      <td>...</td>\n",
       "    </tr>\n",
       "    <tr>\n",
       "      <th>1446</th>\n",
       "      <td>-1.555136</td>\n",
       "      <td>0.519909</td>\n",
       "      <td>-0.980170</td>\n",
       "      <td>-0.374766</td>\n",
       "      <td>0.622975</td>\n",
       "      <td>1.530980</td>\n",
       "      <td>0.316130</td>\n",
       "      <td>-1.056784</td>\n",
       "      <td>0.953105</td>\n",
       "      <td>-0.393177</td>\n",
       "      <td>0.287037</td>\n",
       "      <td>-0.833369</td>\n",
       "      <td>-0.400999</td>\n",
       "    </tr>\n",
       "    <tr>\n",
       "      <th>1447</th>\n",
       "      <td>-1.885464</td>\n",
       "      <td>0.234578</td>\n",
       "      <td>-0.852348</td>\n",
       "      <td>0.031772</td>\n",
       "      <td>-1.120575</td>\n",
       "      <td>1.895825</td>\n",
       "      <td>0.537893</td>\n",
       "      <td>-0.926257</td>\n",
       "      <td>1.428214</td>\n",
       "      <td>0.992572</td>\n",
       "      <td>0.901563</td>\n",
       "      <td>0.502485</td>\n",
       "      <td>-0.400999</td>\n",
       "    </tr>\n",
       "    <tr>\n",
       "      <th>1448</th>\n",
       "      <td>-1.451007</td>\n",
       "      <td>-0.002867</td>\n",
       "      <td>-0.666256</td>\n",
       "      <td>0.207601</td>\n",
       "      <td>-0.145035</td>\n",
       "      <td>1.353642</td>\n",
       "      <td>0.173970</td>\n",
       "      <td>-0.559962</td>\n",
       "      <td>0.746855</td>\n",
       "      <td>0.930432</td>\n",
       "      <td>0.742882</td>\n",
       "      <td>0.502485</td>\n",
       "      <td>-0.400999</td>\n",
       "    </tr>\n",
       "    <tr>\n",
       "      <th>1449</th>\n",
       "      <td>-1.885464</td>\n",
       "      <td>0.766518</td>\n",
       "      <td>-0.727555</td>\n",
       "      <td>-0.374766</td>\n",
       "      <td>-0.207213</td>\n",
       "      <td>1.530980</td>\n",
       "      <td>0.316130</td>\n",
       "      <td>-0.719196</td>\n",
       "      <td>1.762437</td>\n",
       "      <td>0.666655</td>\n",
       "      <td>-0.034166</td>\n",
       "      <td>-0.833369</td>\n",
       "      <td>-0.400999</td>\n",
       "    </tr>\n",
       "    <tr>\n",
       "      <th>1450</th>\n",
       "      <td>-1.772237</td>\n",
       "      <td>-1.333205</td>\n",
       "      <td>1.071301</td>\n",
       "      <td>1.544524</td>\n",
       "      <td>-0.744916</td>\n",
       "      <td>0.534239</td>\n",
       "      <td>0.246643</td>\n",
       "      <td>-0.707386</td>\n",
       "      <td>0.538992</td>\n",
       "      <td>0.299093</td>\n",
       "      <td>0.742882</td>\n",
       "      <td>0.502485</td>\n",
       "      <td>-0.400999</td>\n",
       "    </tr>\n",
       "  </tbody>\n",
       "</table>\n",
       "<p>1451 rows × 13 columns</p>\n",
       "</div>"
      ],
      "text/plain": [
       "      fixed_acidity  volatile_acidity  citric_acid  residual_sugar  chlorides  \\\n",
       "0         -0.467878          1.055740    -1.524506       -0.610683  -0.145035   \n",
       "1         -0.170805          1.919750    -1.524506        0.649155   0.986838   \n",
       "2         -0.170805          1.357067    -1.245434        0.207601   0.718578   \n",
       "3          1.573404         -1.556675     1.444056       -0.610683  -0.207213   \n",
       "4         -0.467878          1.055740    -1.524506       -0.610683  -0.145035   \n",
       "...             ...               ...          ...             ...        ...   \n",
       "1446      -1.555136          0.519909    -0.980170       -0.374766   0.622975   \n",
       "1447      -1.885464          0.234578    -0.852348        0.031772  -1.120575   \n",
       "1448      -1.451007         -0.002867    -0.666256        0.207601  -0.145035   \n",
       "1449      -1.885464          0.766518    -0.727555       -0.374766  -0.207213   \n",
       "1450      -1.772237         -1.333205     1.071301        1.544524  -0.744916   \n",
       "\n",
       "      free_sulfur_dioxide  total_sulfur_dioxide   density        pH  \\\n",
       "0               -0.241492             -0.066536  0.640791  1.360860   \n",
       "1                1.091561              0.952517  0.061011 -0.816507   \n",
       "2                0.238587              0.624244  0.177435 -0.380977   \n",
       "3                0.440493              0.784119  0.756049 -1.110847   \n",
       "4               -0.241492             -0.066536  0.640791  1.360860   \n",
       "...                   ...                   ...       ...       ...   \n",
       "1446             1.530980              0.316130 -1.056784  0.953105   \n",
       "1447             1.895825              0.537893 -0.926257  1.428214   \n",
       "1448             1.353642              0.173970 -0.559962  0.746855   \n",
       "1449             1.530980              0.316130 -0.719196  1.762437   \n",
       "1450             0.534239              0.246643 -0.707386  0.538992   \n",
       "\n",
       "      sulphates   alcohol   quality  quality2  \n",
       "0     -0.589657 -1.120424 -0.833369 -0.400999  \n",
       "1      0.451524 -0.530340 -0.833369 -0.400999  \n",
       "2      0.220005 -0.530340 -0.833369 -0.400999  \n",
       "3     -0.393177 -0.530340  0.502485 -0.400999  \n",
       "4     -0.589657 -1.120424 -0.833369 -0.400999  \n",
       "...         ...       ...       ...       ...  \n",
       "1446  -0.393177  0.287037 -0.833369 -0.400999  \n",
       "1447   0.992572  0.901563  0.502485 -0.400999  \n",
       "1448   0.930432  0.742882  0.502485 -0.400999  \n",
       "1449   0.666655 -0.034166 -0.833369 -0.400999  \n",
       "1450   0.299093  0.742882  0.502485 -0.400999  \n",
       "\n",
       "[1451 rows x 13 columns]"
      ]
     },
     "execution_count": 84,
     "metadata": {},
     "output_type": "execute_result"
    }
   ],
   "source": [
    "ds=pd.DataFrame(x_new ,columns = ds.columns)\n",
    "ds"
   ]
  },
  {
   "cell_type": "code",
   "execution_count": 85,
   "id": "fe91b3d0",
   "metadata": {},
   "outputs": [
    {
     "data": {
      "text/plain": [
       "fixed_acidity           0.018666\n",
       "volatile_acidity        0.004945\n",
       "citric_acid             0.018049\n",
       "residual_sugar         -0.004606\n",
       "chlorides              -0.114658\n",
       "free_sulfur_dioxide    -0.021455\n",
       "total_sulfur_dioxide   -0.005813\n",
       "density                -0.001043\n",
       "pH                     -0.000074\n",
       "sulphates               0.020799\n",
       "alcohol                 0.114658\n",
       "quality                 0.002703\n",
       "quality2                2.094941\n",
       "dtype: float64"
      ]
     },
     "execution_count": 85,
     "metadata": {},
     "output_type": "execute_result"
    }
   ],
   "source": [
    "ds.skew()"
   ]
  },
  {
   "cell_type": "code",
   "execution_count": 86,
   "id": "8172a4d9",
   "metadata": {},
   "outputs": [],
   "source": [
    "x = ds.drop (['quality'], axis = 1)"
   ]
  },
  {
   "cell_type": "code",
   "execution_count": 87,
   "id": "d1529dd4",
   "metadata": {},
   "outputs": [],
   "source": [
    "x = ds.drop (['citric_acid'], axis = 1)"
   ]
  },
  {
   "cell_type": "code",
   "execution_count": 88,
   "id": "8e11c583",
   "metadata": {},
   "outputs": [
    {
     "data": {
      "text/plain": [
       "True"
      ]
     },
     "execution_count": 88,
     "metadata": {},
     "output_type": "execute_result"
    }
   ],
   "source": [
    "#to check if skweness is lying between -0.5 to 0.5\n",
    "ds.skew()[np.abs(ds.skew()) < 0.5].all()"
   ]
  },
  {
   "cell_type": "code",
   "execution_count": 89,
   "id": "6a1eb40a",
   "metadata": {},
   "outputs": [
    {
     "data": {
      "text/html": [
       "<div>\n",
       "<style scoped>\n",
       "    .dataframe tbody tr th:only-of-type {\n",
       "        vertical-align: middle;\n",
       "    }\n",
       "\n",
       "    .dataframe tbody tr th {\n",
       "        vertical-align: top;\n",
       "    }\n",
       "\n",
       "    .dataframe thead th {\n",
       "        text-align: right;\n",
       "    }\n",
       "</style>\n",
       "<table border=\"1\" class=\"dataframe\">\n",
       "  <thead>\n",
       "    <tr style=\"text-align: right;\">\n",
       "      <th></th>\n",
       "      <th>fixed_acidity</th>\n",
       "      <th>volatile_acidity</th>\n",
       "      <th>citric_acid</th>\n",
       "      <th>residual_sugar</th>\n",
       "      <th>chlorides</th>\n",
       "      <th>free_sulfur_dioxide</th>\n",
       "      <th>total_sulfur_dioxide</th>\n",
       "      <th>density</th>\n",
       "      <th>pH</th>\n",
       "      <th>sulphates</th>\n",
       "      <th>alcohol</th>\n",
       "      <th>quality</th>\n",
       "    </tr>\n",
       "  </thead>\n",
       "  <tbody>\n",
       "    <tr>\n",
       "      <th>0</th>\n",
       "      <td>-0.467878</td>\n",
       "      <td>1.055740</td>\n",
       "      <td>-1.524506</td>\n",
       "      <td>-0.610683</td>\n",
       "      <td>-0.145035</td>\n",
       "      <td>-0.241492</td>\n",
       "      <td>-0.066536</td>\n",
       "      <td>0.640791</td>\n",
       "      <td>1.360860</td>\n",
       "      <td>-0.589657</td>\n",
       "      <td>-1.120424</td>\n",
       "      <td>-0.833369</td>\n",
       "    </tr>\n",
       "    <tr>\n",
       "      <th>1</th>\n",
       "      <td>-0.170805</td>\n",
       "      <td>1.919750</td>\n",
       "      <td>-1.524506</td>\n",
       "      <td>0.649155</td>\n",
       "      <td>0.986838</td>\n",
       "      <td>1.091561</td>\n",
       "      <td>0.952517</td>\n",
       "      <td>0.061011</td>\n",
       "      <td>-0.816507</td>\n",
       "      <td>0.451524</td>\n",
       "      <td>-0.530340</td>\n",
       "      <td>-0.833369</td>\n",
       "    </tr>\n",
       "    <tr>\n",
       "      <th>2</th>\n",
       "      <td>-0.170805</td>\n",
       "      <td>1.357067</td>\n",
       "      <td>-1.245434</td>\n",
       "      <td>0.207601</td>\n",
       "      <td>0.718578</td>\n",
       "      <td>0.238587</td>\n",
       "      <td>0.624244</td>\n",
       "      <td>0.177435</td>\n",
       "      <td>-0.380977</td>\n",
       "      <td>0.220005</td>\n",
       "      <td>-0.530340</td>\n",
       "      <td>-0.833369</td>\n",
       "    </tr>\n",
       "    <tr>\n",
       "      <th>3</th>\n",
       "      <td>1.573404</td>\n",
       "      <td>-1.556675</td>\n",
       "      <td>1.444056</td>\n",
       "      <td>-0.610683</td>\n",
       "      <td>-0.207213</td>\n",
       "      <td>0.440493</td>\n",
       "      <td>0.784119</td>\n",
       "      <td>0.756049</td>\n",
       "      <td>-1.110847</td>\n",
       "      <td>-0.393177</td>\n",
       "      <td>-0.530340</td>\n",
       "      <td>0.502485</td>\n",
       "    </tr>\n",
       "    <tr>\n",
       "      <th>4</th>\n",
       "      <td>-0.467878</td>\n",
       "      <td>1.055740</td>\n",
       "      <td>-1.524506</td>\n",
       "      <td>-0.610683</td>\n",
       "      <td>-0.145035</td>\n",
       "      <td>-0.241492</td>\n",
       "      <td>-0.066536</td>\n",
       "      <td>0.640791</td>\n",
       "      <td>1.360860</td>\n",
       "      <td>-0.589657</td>\n",
       "      <td>-1.120424</td>\n",
       "      <td>-0.833369</td>\n",
       "    </tr>\n",
       "    <tr>\n",
       "      <th>...</th>\n",
       "      <td>...</td>\n",
       "      <td>...</td>\n",
       "      <td>...</td>\n",
       "      <td>...</td>\n",
       "      <td>...</td>\n",
       "      <td>...</td>\n",
       "      <td>...</td>\n",
       "      <td>...</td>\n",
       "      <td>...</td>\n",
       "      <td>...</td>\n",
       "      <td>...</td>\n",
       "      <td>...</td>\n",
       "    </tr>\n",
       "    <tr>\n",
       "      <th>1446</th>\n",
       "      <td>-1.555136</td>\n",
       "      <td>0.519909</td>\n",
       "      <td>-0.980170</td>\n",
       "      <td>-0.374766</td>\n",
       "      <td>0.622975</td>\n",
       "      <td>1.530980</td>\n",
       "      <td>0.316130</td>\n",
       "      <td>-1.056784</td>\n",
       "      <td>0.953105</td>\n",
       "      <td>-0.393177</td>\n",
       "      <td>0.287037</td>\n",
       "      <td>-0.833369</td>\n",
       "    </tr>\n",
       "    <tr>\n",
       "      <th>1447</th>\n",
       "      <td>-1.885464</td>\n",
       "      <td>0.234578</td>\n",
       "      <td>-0.852348</td>\n",
       "      <td>0.031772</td>\n",
       "      <td>-1.120575</td>\n",
       "      <td>1.895825</td>\n",
       "      <td>0.537893</td>\n",
       "      <td>-0.926257</td>\n",
       "      <td>1.428214</td>\n",
       "      <td>0.992572</td>\n",
       "      <td>0.901563</td>\n",
       "      <td>0.502485</td>\n",
       "    </tr>\n",
       "    <tr>\n",
       "      <th>1448</th>\n",
       "      <td>-1.451007</td>\n",
       "      <td>-0.002867</td>\n",
       "      <td>-0.666256</td>\n",
       "      <td>0.207601</td>\n",
       "      <td>-0.145035</td>\n",
       "      <td>1.353642</td>\n",
       "      <td>0.173970</td>\n",
       "      <td>-0.559962</td>\n",
       "      <td>0.746855</td>\n",
       "      <td>0.930432</td>\n",
       "      <td>0.742882</td>\n",
       "      <td>0.502485</td>\n",
       "    </tr>\n",
       "    <tr>\n",
       "      <th>1449</th>\n",
       "      <td>-1.885464</td>\n",
       "      <td>0.766518</td>\n",
       "      <td>-0.727555</td>\n",
       "      <td>-0.374766</td>\n",
       "      <td>-0.207213</td>\n",
       "      <td>1.530980</td>\n",
       "      <td>0.316130</td>\n",
       "      <td>-0.719196</td>\n",
       "      <td>1.762437</td>\n",
       "      <td>0.666655</td>\n",
       "      <td>-0.034166</td>\n",
       "      <td>-0.833369</td>\n",
       "    </tr>\n",
       "    <tr>\n",
       "      <th>1450</th>\n",
       "      <td>-1.772237</td>\n",
       "      <td>-1.333205</td>\n",
       "      <td>1.071301</td>\n",
       "      <td>1.544524</td>\n",
       "      <td>-0.744916</td>\n",
       "      <td>0.534239</td>\n",
       "      <td>0.246643</td>\n",
       "      <td>-0.707386</td>\n",
       "      <td>0.538992</td>\n",
       "      <td>0.299093</td>\n",
       "      <td>0.742882</td>\n",
       "      <td>0.502485</td>\n",
       "    </tr>\n",
       "  </tbody>\n",
       "</table>\n",
       "<p>1451 rows × 12 columns</p>\n",
       "</div>"
      ],
      "text/plain": [
       "      fixed_acidity  volatile_acidity  citric_acid  residual_sugar  chlorides  \\\n",
       "0         -0.467878          1.055740    -1.524506       -0.610683  -0.145035   \n",
       "1         -0.170805          1.919750    -1.524506        0.649155   0.986838   \n",
       "2         -0.170805          1.357067    -1.245434        0.207601   0.718578   \n",
       "3          1.573404         -1.556675     1.444056       -0.610683  -0.207213   \n",
       "4         -0.467878          1.055740    -1.524506       -0.610683  -0.145035   \n",
       "...             ...               ...          ...             ...        ...   \n",
       "1446      -1.555136          0.519909    -0.980170       -0.374766   0.622975   \n",
       "1447      -1.885464          0.234578    -0.852348        0.031772  -1.120575   \n",
       "1448      -1.451007         -0.002867    -0.666256        0.207601  -0.145035   \n",
       "1449      -1.885464          0.766518    -0.727555       -0.374766  -0.207213   \n",
       "1450      -1.772237         -1.333205     1.071301        1.544524  -0.744916   \n",
       "\n",
       "      free_sulfur_dioxide  total_sulfur_dioxide   density        pH  \\\n",
       "0               -0.241492             -0.066536  0.640791  1.360860   \n",
       "1                1.091561              0.952517  0.061011 -0.816507   \n",
       "2                0.238587              0.624244  0.177435 -0.380977   \n",
       "3                0.440493              0.784119  0.756049 -1.110847   \n",
       "4               -0.241492             -0.066536  0.640791  1.360860   \n",
       "...                   ...                   ...       ...       ...   \n",
       "1446             1.530980              0.316130 -1.056784  0.953105   \n",
       "1447             1.895825              0.537893 -0.926257  1.428214   \n",
       "1448             1.353642              0.173970 -0.559962  0.746855   \n",
       "1449             1.530980              0.316130 -0.719196  1.762437   \n",
       "1450             0.534239              0.246643 -0.707386  0.538992   \n",
       "\n",
       "      sulphates   alcohol   quality  \n",
       "0     -0.589657 -1.120424 -0.833369  \n",
       "1      0.451524 -0.530340 -0.833369  \n",
       "2      0.220005 -0.530340 -0.833369  \n",
       "3     -0.393177 -0.530340  0.502485  \n",
       "4     -0.589657 -1.120424 -0.833369  \n",
       "...         ...       ...       ...  \n",
       "1446  -0.393177  0.287037 -0.833369  \n",
       "1447   0.992572  0.901563  0.502485  \n",
       "1448   0.930432  0.742882  0.502485  \n",
       "1449   0.666655 -0.034166 -0.833369  \n",
       "1450   0.299093  0.742882  0.502485  \n",
       "\n",
       "[1451 rows x 12 columns]"
      ]
     },
     "execution_count": 89,
     "metadata": {},
     "output_type": "execute_result"
    }
   ],
   "source": [
    "x=ds.iloc[:,0:-1]\n",
    "x"
   ]
  },
  {
   "cell_type": "code",
   "execution_count": 90,
   "id": "acc9eb8d",
   "metadata": {},
   "outputs": [
    {
     "data": {
      "text/plain": [
       "0      -0.400999\n",
       "1      -0.400999\n",
       "2      -0.400999\n",
       "3      -0.400999\n",
       "4      -0.400999\n",
       "          ...   \n",
       "1446   -0.400999\n",
       "1447   -0.400999\n",
       "1448   -0.400999\n",
       "1449   -0.400999\n",
       "1450   -0.400999\n",
       "Name: quality2, Length: 1451, dtype: float64"
      ]
     },
     "execution_count": 90,
     "metadata": {},
     "output_type": "execute_result"
    }
   ],
   "source": [
    "y=ds.iloc[:,-1]\n",
    "y"
   ]
  },
  {
   "cell_type": "code",
   "execution_count": 91,
   "id": "bd5a501d",
   "metadata": {},
   "outputs": [
    {
     "data": {
      "text/plain": [
       "array([0, 0, 0, ..., 0, 0, 0], dtype=int64)"
      ]
     },
     "execution_count": 91,
     "metadata": {},
     "output_type": "execute_result"
    }
   ],
   "source": [
    "le = LabelEncoder()\n",
    "y=le.fit_transform(y)\n",
    "y"
   ]
  },
  {
   "cell_type": "code",
   "execution_count": 92,
   "id": "49bed3dd",
   "metadata": {},
   "outputs": [
    {
     "data": {
      "text/plain": [
       "(1451, 12)"
      ]
     },
     "execution_count": 92,
     "metadata": {},
     "output_type": "execute_result"
    }
   ],
   "source": [
    "x.shape"
   ]
  },
  {
   "cell_type": "code",
   "execution_count": 97,
   "id": "d7c6ea52",
   "metadata": {},
   "outputs": [],
   "source": [
    "x_train,x_test,y_train,y_test = train_test_split(x,y,test_size=0.20,random_state=587)"
   ]
  },
  {
   "cell_type": "code",
   "execution_count": 98,
   "id": "c843c3b6",
   "metadata": {},
   "outputs": [
    {
     "data": {
      "text/html": [
       "<div>\n",
       "<style scoped>\n",
       "    .dataframe tbody tr th:only-of-type {\n",
       "        vertical-align: middle;\n",
       "    }\n",
       "\n",
       "    .dataframe tbody tr th {\n",
       "        vertical-align: top;\n",
       "    }\n",
       "\n",
       "    .dataframe thead th {\n",
       "        text-align: right;\n",
       "    }\n",
       "</style>\n",
       "<table border=\"1\" class=\"dataframe\">\n",
       "  <thead>\n",
       "    <tr style=\"text-align: right;\">\n",
       "      <th></th>\n",
       "      <th>fixed_acidity</th>\n",
       "      <th>volatile_acidity</th>\n",
       "      <th>citric_acid</th>\n",
       "      <th>residual_sugar</th>\n",
       "      <th>chlorides</th>\n",
       "      <th>free_sulfur_dioxide</th>\n",
       "      <th>total_sulfur_dioxide</th>\n",
       "      <th>density</th>\n",
       "      <th>pH</th>\n",
       "      <th>sulphates</th>\n",
       "      <th>alcohol</th>\n",
       "      <th>quality</th>\n",
       "    </tr>\n",
       "  </thead>\n",
       "  <tbody>\n",
       "    <tr>\n",
       "      <th>1006</th>\n",
       "      <td>-0.794377</td>\n",
       "      <td>1.004109</td>\n",
       "      <td>-1.045257</td>\n",
       "      <td>0.514659</td>\n",
       "      <td>0.671179</td>\n",
       "      <td>0.238587</td>\n",
       "      <td>-0.764233</td>\n",
       "      <td>-0.571742</td>\n",
       "      <td>0.469341</td>\n",
       "      <td>-0.206660</td>\n",
       "      <td>0.976444</td>\n",
       "      <td>0.502485</td>\n",
       "    </tr>\n",
       "    <tr>\n",
       "      <th>1281</th>\n",
       "      <td>1.079857</td>\n",
       "      <td>-1.260258</td>\n",
       "      <td>1.562056</td>\n",
       "      <td>0.031772</td>\n",
       "      <td>-0.083910</td>\n",
       "      <td>-1.915030</td>\n",
       "      <td>-1.235889</td>\n",
       "      <td>1.556391</td>\n",
       "      <td>-0.816507</td>\n",
       "      <td>1.112589</td>\n",
       "      <td>-0.812371</td>\n",
       "      <td>-0.833369</td>\n",
       "    </tr>\n",
       "    <tr>\n",
       "      <th>1127</th>\n",
       "      <td>0.164908</td>\n",
       "      <td>0.292638</td>\n",
       "      <td>-0.144923</td>\n",
       "      <td>0.367978</td>\n",
       "      <td>0.206563</td>\n",
       "      <td>-0.383120</td>\n",
       "      <td>1.336987</td>\n",
       "      <td>0.928501</td>\n",
       "      <td>0.399508</td>\n",
       "      <td>-0.029485</td>\n",
       "      <td>-0.962968</td>\n",
       "      <td>-0.833369</td>\n",
       "    </tr>\n",
       "    <tr>\n",
       "      <th>741</th>\n",
       "      <td>-1.885464</td>\n",
       "      <td>0.575521</td>\n",
       "      <td>-0.980170</td>\n",
       "      <td>-0.161553</td>\n",
       "      <td>-0.466841</td>\n",
       "      <td>0.342117</td>\n",
       "      <td>-0.573334</td>\n",
       "      <td>-1.737804</td>\n",
       "      <td>1.695929</td>\n",
       "      <td>1.053277</td>\n",
       "      <td>0.823756</td>\n",
       "      <td>0.502485</td>\n",
       "    </tr>\n",
       "    <tr>\n",
       "      <th>655</th>\n",
       "      <td>0.578983</td>\n",
       "      <td>-0.312003</td>\n",
       "      <td>-0.090136</td>\n",
       "      <td>0.886662</td>\n",
       "      <td>0.718578</td>\n",
       "      <td>1.291102</td>\n",
       "      <td>1.632778</td>\n",
       "      <td>0.928501</td>\n",
       "      <td>-1.558502</td>\n",
       "      <td>-0.589657</td>\n",
       "      <td>-1.457471</td>\n",
       "      <td>-0.833369</td>\n",
       "    </tr>\n",
       "    <tr>\n",
       "      <th>...</th>\n",
       "      <td>...</td>\n",
       "      <td>...</td>\n",
       "      <td>...</td>\n",
       "      <td>...</td>\n",
       "      <td>...</td>\n",
       "      <td>...</td>\n",
       "      <td>...</td>\n",
       "      <td>...</td>\n",
       "      <td>...</td>\n",
       "      <td>...</td>\n",
       "      <td>...</td>\n",
       "      <td>...</td>\n",
       "    </tr>\n",
       "    <tr>\n",
       "      <th>132</th>\n",
       "      <td>-0.970066</td>\n",
       "      <td>0.519909</td>\n",
       "      <td>-0.370145</td>\n",
       "      <td>-0.610683</td>\n",
       "      <td>0.035255</td>\n",
       "      <td>0.534239</td>\n",
       "      <td>1.336987</td>\n",
       "      <td>0.061011</td>\n",
       "      <td>1.894953</td>\n",
       "      <td>-0.490131</td>\n",
       "      <td>-1.285122</td>\n",
       "      <td>0.502485</td>\n",
       "    </tr>\n",
       "    <tr>\n",
       "      <th>114</th>\n",
       "      <td>-0.627182</td>\n",
       "      <td>-0.602811</td>\n",
       "      <td>0.572620</td>\n",
       "      <td>-0.374766</td>\n",
       "      <td>0.150429</td>\n",
       "      <td>0.013471</td>\n",
       "      <td>0.349765</td>\n",
       "      <td>0.293624</td>\n",
       "      <td>1.157766</td>\n",
       "      <td>0.138921</td>\n",
       "      <td>-1.457471</td>\n",
       "      <td>-0.833369</td>\n",
       "    </tr>\n",
       "    <tr>\n",
       "      <th>48</th>\n",
       "      <td>-0.546579</td>\n",
       "      <td>-0.769871</td>\n",
       "      <td>0.328009</td>\n",
       "      <td>0.367978</td>\n",
       "      <td>-0.270462</td>\n",
       "      <td>-0.536390</td>\n",
       "      <td>0.382704</td>\n",
       "      <td>-0.289669</td>\n",
       "      <td>0.677748</td>\n",
       "      <td>-0.796771</td>\n",
       "      <td>-1.120424</td>\n",
       "      <td>0.502485</td>\n",
       "    </tr>\n",
       "    <tr>\n",
       "      <th>623</th>\n",
       "      <td>-0.391013</td>\n",
       "      <td>-0.837844</td>\n",
       "      <td>1.114187</td>\n",
       "      <td>0.649155</td>\n",
       "      <td>-0.334803</td>\n",
       "      <td>0.870948</td>\n",
       "      <td>1.300548</td>\n",
       "      <td>0.293624</td>\n",
       "      <td>0.047571</td>\n",
       "      <td>0.596675</td>\n",
       "      <td>-0.812371</td>\n",
       "      <td>-2.505564</td>\n",
       "    </tr>\n",
       "    <tr>\n",
       "      <th>18</th>\n",
       "      <td>0.289385</td>\n",
       "      <td>-0.124825</td>\n",
       "      <td>-0.789581</td>\n",
       "      <td>0.207601</td>\n",
       "      <td>0.316013</td>\n",
       "      <td>-0.536390</td>\n",
       "      <td>0.952517</td>\n",
       "      <td>0.061011</td>\n",
       "      <td>-1.036959</td>\n",
       "      <td>-0.904540</td>\n",
       "      <td>-1.120424</td>\n",
       "      <td>-0.833369</td>\n",
       "    </tr>\n",
       "  </tbody>\n",
       "</table>\n",
       "<p>1160 rows × 12 columns</p>\n",
       "</div>"
      ],
      "text/plain": [
       "      fixed_acidity  volatile_acidity  citric_acid  residual_sugar  chlorides  \\\n",
       "1006      -0.794377          1.004109    -1.045257        0.514659   0.671179   \n",
       "1281       1.079857         -1.260258     1.562056        0.031772  -0.083910   \n",
       "1127       0.164908          0.292638    -0.144923        0.367978   0.206563   \n",
       "741       -1.885464          0.575521    -0.980170       -0.161553  -0.466841   \n",
       "655        0.578983         -0.312003    -0.090136        0.886662   0.718578   \n",
       "...             ...               ...          ...             ...        ...   \n",
       "132       -0.970066          0.519909    -0.370145       -0.610683   0.035255   \n",
       "114       -0.627182         -0.602811     0.572620       -0.374766   0.150429   \n",
       "48        -0.546579         -0.769871     0.328009        0.367978  -0.270462   \n",
       "623       -0.391013         -0.837844     1.114187        0.649155  -0.334803   \n",
       "18         0.289385         -0.124825    -0.789581        0.207601   0.316013   \n",
       "\n",
       "      free_sulfur_dioxide  total_sulfur_dioxide   density        pH  \\\n",
       "1006             0.238587             -0.764233 -0.571742  0.469341   \n",
       "1281            -1.915030             -1.235889  1.556391 -0.816507   \n",
       "1127            -0.383120              1.336987  0.928501  0.399508   \n",
       "741              0.342117             -0.573334 -1.737804  1.695929   \n",
       "655              1.291102              1.632778  0.928501 -1.558502   \n",
       "...                   ...                   ...       ...       ...   \n",
       "132              0.534239              1.336987  0.061011  1.894953   \n",
       "114              0.013471              0.349765  0.293624  1.157766   \n",
       "48              -0.536390              0.382704 -0.289669  0.677748   \n",
       "623              0.870948              1.300548  0.293624  0.047571   \n",
       "18              -0.536390              0.952517  0.061011 -1.036959   \n",
       "\n",
       "      sulphates   alcohol   quality  \n",
       "1006  -0.206660  0.976444  0.502485  \n",
       "1281   1.112589 -0.812371 -0.833369  \n",
       "1127  -0.029485 -0.962968 -0.833369  \n",
       "741    1.053277  0.823756  0.502485  \n",
       "655   -0.589657 -1.457471 -0.833369  \n",
       "...         ...       ...       ...  \n",
       "132   -0.490131 -1.285122  0.502485  \n",
       "114    0.138921 -1.457471 -0.833369  \n",
       "48    -0.796771 -1.120424  0.502485  \n",
       "623    0.596675 -0.812371 -2.505564  \n",
       "18    -0.904540 -1.120424 -0.833369  \n",
       "\n",
       "[1160 rows x 12 columns]"
      ]
     },
     "execution_count": 98,
     "metadata": {},
     "output_type": "execute_result"
    }
   ],
   "source": [
    "x_train"
   ]
  },
  {
   "cell_type": "code",
   "execution_count": 99,
   "id": "d33948ea",
   "metadata": {},
   "outputs": [
    {
     "data": {
      "text/plain": [
       "array([0, 0, 1, 0, 1, 0, 0, 0, 1, 0, 0, 0, 0, 0, 0, 0, 0, 0, 0, 0, 0, 0,\n",
       "       0, 0, 1, 0, 0, 1, 0, 0, 0, 1, 0, 1, 0, 0, 0, 0, 0, 0, 1, 0, 1, 0,\n",
       "       0, 0, 0, 0, 0, 0, 0, 0, 0, 0, 0, 0, 0, 0, 0, 0, 0, 0, 0, 0, 0, 1,\n",
       "       0, 0, 0, 1, 0, 0, 0, 0, 0, 1, 0, 0, 0, 0, 0, 0, 0, 0, 0, 0, 0, 0,\n",
       "       1, 0, 0, 0, 1, 0, 0, 0, 0, 0, 0, 0, 0, 0, 1, 0, 0, 0, 0, 0, 1, 0,\n",
       "       0, 1, 1, 0, 0, 0, 1, 0, 0, 0, 0, 1, 0, 1, 0, 0, 0, 0, 0, 0, 0, 0,\n",
       "       0, 1, 0, 0, 1, 0, 0, 0, 0, 0, 0, 1, 0, 0, 0, 0, 0, 0, 0, 0, 0, 0,\n",
       "       1, 0, 0, 0, 0, 0, 0, 0, 0, 0, 0, 0, 0, 0, 1, 0, 0, 0, 0, 0, 0, 0,\n",
       "       0, 0, 1, 0, 0, 0, 0, 0, 0, 1, 1, 0, 0, 0, 0, 0, 1, 0, 0, 0, 0, 0,\n",
       "       0, 0, 0, 0, 0, 0, 0, 0, 0, 1, 1, 1, 0, 0, 0, 1, 1, 0, 0, 0, 0, 0,\n",
       "       0, 0, 0, 0, 0, 0, 0, 0, 0, 0, 0, 1, 0, 1, 0, 0, 1, 0, 1, 0, 0, 0,\n",
       "       0, 0, 0, 0, 0, 0, 0, 0, 0, 0, 0, 0, 0, 0, 0, 0, 0, 0, 0, 0, 0, 0,\n",
       "       0, 0, 0, 0, 0, 0, 0, 1, 1, 0, 0, 0, 0, 0, 0, 0, 0, 0, 0, 1, 0, 1,\n",
       "       0, 0, 0, 1, 1], dtype=int64)"
      ]
     },
     "execution_count": 99,
     "metadata": {},
     "output_type": "execute_result"
    }
   ],
   "source": [
    "y_test"
   ]
  },
  {
   "cell_type": "code",
   "execution_count": 100,
   "id": "182310f2",
   "metadata": {},
   "outputs": [
    {
     "data": {
      "text/html": [
       "<div>\n",
       "<style scoped>\n",
       "    .dataframe tbody tr th:only-of-type {\n",
       "        vertical-align: middle;\n",
       "    }\n",
       "\n",
       "    .dataframe tbody tr th {\n",
       "        vertical-align: top;\n",
       "    }\n",
       "\n",
       "    .dataframe thead th {\n",
       "        text-align: right;\n",
       "    }\n",
       "</style>\n",
       "<table border=\"1\" class=\"dataframe\">\n",
       "  <thead>\n",
       "    <tr style=\"text-align: right;\">\n",
       "      <th></th>\n",
       "      <th>fixed_acidity</th>\n",
       "      <th>volatile_acidity</th>\n",
       "      <th>citric_acid</th>\n",
       "      <th>residual_sugar</th>\n",
       "      <th>chlorides</th>\n",
       "      <th>free_sulfur_dioxide</th>\n",
       "      <th>total_sulfur_dioxide</th>\n",
       "      <th>density</th>\n",
       "      <th>pH</th>\n",
       "      <th>sulphates</th>\n",
       "      <th>alcohol</th>\n",
       "      <th>quality</th>\n",
       "    </tr>\n",
       "  </thead>\n",
       "  <tbody>\n",
       "    <tr>\n",
       "      <th>494</th>\n",
       "      <td>1.459266</td>\n",
       "      <td>0.116912</td>\n",
       "      <td>1.156692</td>\n",
       "      <td>2.001276</td>\n",
       "      <td>1.709840</td>\n",
       "      <td>-0.383120</td>\n",
       "      <td>-1.062089</td>\n",
       "      <td>2.008697</td>\n",
       "      <td>-1.785158</td>\n",
       "      <td>-0.589657</td>\n",
       "      <td>1.249254</td>\n",
       "      <td>0.502485</td>\n",
       "    </tr>\n",
       "    <tr>\n",
       "      <th>416</th>\n",
       "      <td>0.890746</td>\n",
       "      <td>0.176005</td>\n",
       "      <td>0.850950</td>\n",
       "      <td>0.367978</td>\n",
       "      <td>0.150429</td>\n",
       "      <td>1.091561</td>\n",
       "      <td>0.567198</td>\n",
       "      <td>0.177435</td>\n",
       "      <td>-0.816507</td>\n",
       "      <td>0.666655</td>\n",
       "      <td>1.048531</td>\n",
       "      <td>0.502485</td>\n",
       "    </tr>\n",
       "    <tr>\n",
       "      <th>1329</th>\n",
       "      <td>-0.546579</td>\n",
       "      <td>-0.186643</td>\n",
       "      <td>0.377906</td>\n",
       "      <td>-0.161553</td>\n",
       "      <td>-1.120575</td>\n",
       "      <td>1.473480</td>\n",
       "      <td>0.624244</td>\n",
       "      <td>0.340034</td>\n",
       "      <td>-0.094515</td>\n",
       "      <td>0.220005</td>\n",
       "      <td>-0.271710</td>\n",
       "      <td>1.604883</td>\n",
       "    </tr>\n",
       "    <tr>\n",
       "      <th>242</th>\n",
       "      <td>1.646455</td>\n",
       "      <td>-1.709656</td>\n",
       "      <td>0.940300</td>\n",
       "      <td>1.544524</td>\n",
       "      <td>-0.466841</td>\n",
       "      <td>-1.093058</td>\n",
       "      <td>-0.905978</td>\n",
       "      <td>1.100433</td>\n",
       "      <td>-1.408453</td>\n",
       "      <td>1.336672</td>\n",
       "      <td>-1.285122</td>\n",
       "      <td>0.502485</td>\n",
       "    </tr>\n",
       "    <tr>\n",
       "      <th>435</th>\n",
       "      <td>0.686942</td>\n",
       "      <td>-0.635900</td>\n",
       "      <td>1.198823</td>\n",
       "      <td>0.514659</td>\n",
       "      <td>-1.704257</td>\n",
       "      <td>-0.109754</td>\n",
       "      <td>-0.514584</td>\n",
       "      <td>-0.878864</td>\n",
       "      <td>0.188904</td>\n",
       "      <td>1.170547</td>\n",
       "      <td>2.021714</td>\n",
       "      <td>1.604883</td>\n",
       "    </tr>\n",
       "    <tr>\n",
       "      <th>...</th>\n",
       "      <td>...</td>\n",
       "      <td>...</td>\n",
       "      <td>...</td>\n",
       "      <td>...</td>\n",
       "      <td>...</td>\n",
       "      <td>...</td>\n",
       "      <td>...</td>\n",
       "      <td>...</td>\n",
       "      <td>...</td>\n",
       "      <td>...</td>\n",
       "      <td>...</td>\n",
       "      <td>...</td>\n",
       "    </tr>\n",
       "    <tr>\n",
       "      <th>252</th>\n",
       "      <td>1.255812</td>\n",
       "      <td>0.234578</td>\n",
       "      <td>-0.090136</td>\n",
       "      <td>0.772776</td>\n",
       "      <td>0.671179</td>\n",
       "      <td>0.534239</td>\n",
       "      <td>0.446604</td>\n",
       "      <td>1.556391</td>\n",
       "      <td>-0.670541</td>\n",
       "      <td>0.138921</td>\n",
       "      <td>0.077349</td>\n",
       "      <td>0.502485</td>\n",
       "    </tr>\n",
       "    <tr>\n",
       "      <th>1113</th>\n",
       "      <td>0.578983</td>\n",
       "      <td>0.407253</td>\n",
       "      <td>0.017698</td>\n",
       "      <td>-0.374766</td>\n",
       "      <td>1.229464</td>\n",
       "      <td>-0.703580</td>\n",
       "      <td>-0.764233</td>\n",
       "      <td>0.577301</td>\n",
       "      <td>-0.309073</td>\n",
       "      <td>0.734973</td>\n",
       "      <td>-0.812371</td>\n",
       "      <td>-0.833369</td>\n",
       "    </tr>\n",
       "    <tr>\n",
       "      <th>1375</th>\n",
       "      <td>-1.154917</td>\n",
       "      <td>1.055740</td>\n",
       "      <td>-0.980170</td>\n",
       "      <td>0.649155</td>\n",
       "      <td>1.305096</td>\n",
       "      <td>0.129285</td>\n",
       "      <td>-0.403341</td>\n",
       "      <td>-0.026460</td>\n",
       "      <td>0.884533</td>\n",
       "      <td>-0.393177</td>\n",
       "      <td>-0.034166</td>\n",
       "      <td>-0.833369</td>\n",
       "    </tr>\n",
       "    <tr>\n",
       "      <th>370</th>\n",
       "      <td>-1.154917</td>\n",
       "      <td>1.737754</td>\n",
       "      <td>-1.313859</td>\n",
       "      <td>0.207601</td>\n",
       "      <td>-1.362067</td>\n",
       "      <td>1.530980</td>\n",
       "      <td>0.446604</td>\n",
       "      <td>-0.878864</td>\n",
       "      <td>1.428214</td>\n",
       "      <td>-0.589657</td>\n",
       "      <td>1.590310</td>\n",
       "      <td>1.604883</td>\n",
       "    </tr>\n",
       "    <tr>\n",
       "      <th>400</th>\n",
       "      <td>1.255812</td>\n",
       "      <td>-1.188059</td>\n",
       "      <td>1.714899</td>\n",
       "      <td>0.886662</td>\n",
       "      <td>0.316013</td>\n",
       "      <td>-1.325605</td>\n",
       "      <td>-0.697954</td>\n",
       "      <td>1.782999</td>\n",
       "      <td>-0.380977</td>\n",
       "      <td>0.866815</td>\n",
       "      <td>0.901563</td>\n",
       "      <td>1.604883</td>\n",
       "    </tr>\n",
       "  </tbody>\n",
       "</table>\n",
       "<p>291 rows × 12 columns</p>\n",
       "</div>"
      ],
      "text/plain": [
       "      fixed_acidity  volatile_acidity  citric_acid  residual_sugar  chlorides  \\\n",
       "494        1.459266          0.116912     1.156692        2.001276   1.709840   \n",
       "416        0.890746          0.176005     0.850950        0.367978   0.150429   \n",
       "1329      -0.546579         -0.186643     0.377906       -0.161553  -1.120575   \n",
       "242        1.646455         -1.709656     0.940300        1.544524  -0.466841   \n",
       "435        0.686942         -0.635900     1.198823        0.514659  -1.704257   \n",
       "...             ...               ...          ...             ...        ...   \n",
       "252        1.255812          0.234578    -0.090136        0.772776   0.671179   \n",
       "1113       0.578983          0.407253     0.017698       -0.374766   1.229464   \n",
       "1375      -1.154917          1.055740    -0.980170        0.649155   1.305096   \n",
       "370       -1.154917          1.737754    -1.313859        0.207601  -1.362067   \n",
       "400        1.255812         -1.188059     1.714899        0.886662   0.316013   \n",
       "\n",
       "      free_sulfur_dioxide  total_sulfur_dioxide   density        pH  \\\n",
       "494             -0.383120             -1.062089  2.008697 -1.785158   \n",
       "416              1.091561              0.567198  0.177435 -0.816507   \n",
       "1329             1.473480              0.624244  0.340034 -0.094515   \n",
       "242             -1.093058             -0.905978  1.100433 -1.408453   \n",
       "435             -0.109754             -0.514584 -0.878864  0.188904   \n",
       "...                   ...                   ...       ...       ...   \n",
       "252              0.534239              0.446604  1.556391 -0.670541   \n",
       "1113            -0.703580             -0.764233  0.577301 -0.309073   \n",
       "1375             0.129285             -0.403341 -0.026460  0.884533   \n",
       "370              1.530980              0.446604 -0.878864  1.428214   \n",
       "400             -1.325605             -0.697954  1.782999 -0.380977   \n",
       "\n",
       "      sulphates   alcohol   quality  \n",
       "494   -0.589657  1.249254  0.502485  \n",
       "416    0.666655  1.048531  0.502485  \n",
       "1329   0.220005 -0.271710  1.604883  \n",
       "242    1.336672 -1.285122  0.502485  \n",
       "435    1.170547  2.021714  1.604883  \n",
       "...         ...       ...       ...  \n",
       "252    0.138921  0.077349  0.502485  \n",
       "1113   0.734973 -0.812371 -0.833369  \n",
       "1375  -0.393177 -0.034166 -0.833369  \n",
       "370   -0.589657  1.590310  1.604883  \n",
       "400    0.866815  0.901563  1.604883  \n",
       "\n",
       "[291 rows x 12 columns]"
      ]
     },
     "execution_count": 100,
     "metadata": {},
     "output_type": "execute_result"
    }
   ],
   "source": [
    "x_test"
   ]
  },
  {
   "cell_type": "code",
   "execution_count": 101,
   "id": "7204f747",
   "metadata": {},
   "outputs": [
    {
     "data": {
      "text/plain": [
       "array([0, 0, 0, ..., 0, 0, 0], dtype=int64)"
      ]
     },
     "execution_count": 101,
     "metadata": {},
     "output_type": "execute_result"
    }
   ],
   "source": [
    "y_train"
   ]
  },
  {
   "cell_type": "code",
   "execution_count": 102,
   "id": "94063648",
   "metadata": {},
   "outputs": [
    {
     "data": {
      "text/plain": [
       "array([[-0.46787818,  1.05573967, -1.52450588, ..., -0.58965734,\n",
       "        -1.12042399, -0.83336932],\n",
       "       [-0.17080535,  1.91974976, -1.52450588, ...,  0.45152416,\n",
       "        -0.5303401 , -0.83336932],\n",
       "       [-0.17080535,  1.35706712, -1.24543379, ...,  0.22000451,\n",
       "        -0.5303401 , -0.83336932],\n",
       "       ...,\n",
       "       [-1.45100718, -0.00286664, -0.66625579, ...,  0.93043194,\n",
       "         0.74288203,  0.50248471],\n",
       "       [-1.88546393,  0.76651828, -0.72755539, ...,  0.666655  ,\n",
       "        -0.03416625, -0.83336932],\n",
       "       [-1.7722373 , -1.33320495,  1.07130142, ...,  0.29909273,\n",
       "         0.74288203,  0.50248471]])"
      ]
     },
     "execution_count": 102,
     "metadata": {},
     "output_type": "execute_result"
    }
   ],
   "source": [
    "scale=StandardScaler()\n",
    "x=scale.fit_transform(x)\n",
    "x"
   ]
  },
  {
   "cell_type": "code",
   "execution_count": 103,
   "id": "5a47e47a",
   "metadata": {},
   "outputs": [],
   "source": [
    "x_train,x_test,y_train,y_test = train_test_split(x,y,test_size=0.20,random_state=587)"
   ]
  },
  {
   "cell_type": "code",
   "execution_count": 108,
   "id": "1bb9d4b0",
   "metadata": {},
   "outputs": [
    {
     "ename": "ImportError",
     "evalue": "cannot import name 'plot_roc_curve' from 'sklearn.metrics' (C:\\Users\\Inayat\\anaconda3\\lib\\site-packages\\sklearn\\metrics\\__init__.py)",
     "output_type": "error",
     "traceback": [
      "\u001b[1;31m---------------------------------------------------------------------------\u001b[0m",
      "\u001b[1;31mImportError\u001b[0m                               Traceback (most recent call last)",
      "\u001b[1;32m~\\AppData\\Local\\Temp/ipykernel_17112/1596156766.py\u001b[0m in \u001b[0;36m<module>\u001b[1;34m\u001b[0m\n\u001b[1;32m----> 1\u001b[1;33m \u001b[1;32mfrom\u001b[0m \u001b[0msklearn\u001b[0m\u001b[1;33m.\u001b[0m\u001b[0mmetrics\u001b[0m \u001b[1;32mimport\u001b[0m \u001b[0maccuracy_score\u001b[0m\u001b[1;33m,\u001b[0m\u001b[0mplot_roc_curve\u001b[0m\u001b[1;33m\u001b[0m\u001b[1;33m\u001b[0m\u001b[0m\n\u001b[0m",
      "\u001b[1;31mImportError\u001b[0m: cannot import name 'plot_roc_curve' from 'sklearn.metrics' (C:\\Users\\Inayat\\anaconda3\\lib\\site-packages\\sklearn\\metrics\\__init__.py)"
     ]
    }
   ],
   "source": [
    "from sklearn.metrics import accuracy_score,plot_roc_curve"
   ]
  },
  {
   "cell_type": "code",
   "execution_count": 104,
   "id": "158d442b",
   "metadata": {},
   "outputs": [
    {
     "name": "stdout",
     "output_type": "stream",
     "text": [
      "Accuracy_score: LogisticRegression() is\n"
     ]
    },
    {
     "ename": "NameError",
     "evalue": "name 'accuracy_score' is not defined",
     "output_type": "error",
     "traceback": [
      "\u001b[1;31m---------------------------------------------------------------------------\u001b[0m",
      "\u001b[1;31mNameError\u001b[0m                                 Traceback (most recent call last)",
      "\u001b[1;32m~\\AppData\\Local\\Temp/ipykernel_17112/3793845607.py\u001b[0m in \u001b[0;36m<module>\u001b[1;34m\u001b[0m\n\u001b[0;32m     12\u001b[0m     \u001b[0mprint\u001b[0m\u001b[1;33m(\u001b[0m\u001b[1;34m\"Accuracy_score:\"\u001b[0m\u001b[1;33m,\u001b[0m\u001b[0mm\u001b[0m\u001b[1;33m,\u001b[0m\u001b[1;34m'is'\u001b[0m\u001b[1;33m)\u001b[0m\u001b[1;33m\u001b[0m\u001b[1;33m\u001b[0m\u001b[0m\n\u001b[0;32m     13\u001b[0m \u001b[1;33m\u001b[0m\u001b[0m\n\u001b[1;32m---> 14\u001b[1;33m     \u001b[0mprint\u001b[0m\u001b[1;33m(\u001b[0m\u001b[0maccuracy_score\u001b[0m\u001b[1;33m(\u001b[0m\u001b[0my_test\u001b[0m\u001b[1;33m,\u001b[0m\u001b[0mpredm\u001b[0m\u001b[1;33m)\u001b[0m\u001b[1;33m)\u001b[0m\u001b[1;33m\u001b[0m\u001b[1;33m\u001b[0m\u001b[0m\n\u001b[0m\u001b[0;32m     15\u001b[0m     \u001b[0mprint\u001b[0m\u001b[1;33m(\u001b[0m\u001b[0mclassification_report\u001b[0m\u001b[1;33m(\u001b[0m\u001b[0my_test\u001b[0m\u001b[1;33m,\u001b[0m\u001b[0mpredm\u001b[0m\u001b[1;33m)\u001b[0m\u001b[1;33m)\u001b[0m\u001b[1;33m\u001b[0m\u001b[1;33m\u001b[0m\u001b[0m\n\u001b[0;32m     16\u001b[0m     \u001b[0mprint\u001b[0m\u001b[1;33m(\u001b[0m\u001b[1;34m'\\n'\u001b[0m\u001b[1;33m)\u001b[0m\u001b[1;33m\u001b[0m\u001b[1;33m\u001b[0m\u001b[0m\n",
      "\u001b[1;31mNameError\u001b[0m: name 'accuracy_score' is not defined"
     ]
    }
   ],
   "source": [
    "lg=LogisticRegression()\n",
    "gnb=GaussianNB()\n",
    "svc=SVC()\n",
    "dtc=DecisionTreeClassifier()\n",
    "knn=KNeighborsClassifier()\n",
    "\n",
    "model=[lg,gnb,svc,dtc,knn]\n",
    "for m in model:\n",
    "    m.fit(x_train,y_train)\n",
    "    m.score(x_train,y_train)\n",
    "    predm=m.predict(x_test)\n",
    "    print(\"Accuracy_score:\",m,'is')\n",
    "    \n",
    "    print(accuracy_score(y_test,predm))\n",
    "    print(classification_report(y_test,predm))\n",
    "    print('\\n')"
   ]
  },
  {
   "cell_type": "code",
   "execution_count": null,
   "id": "25f90b52",
   "metadata": {},
   "outputs": [],
   "source": []
  }
 ],
 "metadata": {
  "kernelspec": {
   "display_name": "Python 3 (ipykernel)",
   "language": "python",
   "name": "python3"
  },
  "language_info": {
   "codemirror_mode": {
    "name": "ipython",
    "version": 3
   },
   "file_extension": ".py",
   "mimetype": "text/x-python",
   "name": "python",
   "nbconvert_exporter": "python",
   "pygments_lexer": "ipython3",
   "version": "3.9.7"
  }
 },
 "nbformat": 4,
 "nbformat_minor": 5
}
